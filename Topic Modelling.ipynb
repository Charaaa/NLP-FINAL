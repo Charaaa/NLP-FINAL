{
 "cells": [
  {
   "cell_type": "markdown",
   "metadata": {},
   "source": [
    "# Session setup"
   ]
  },
  {
   "cell_type": "code",
   "execution_count": 25,
   "metadata": {
    "ExecuteTime": {
     "end_time": "2020-07-07T15:50:04.034808Z",
     "start_time": "2020-07-07T15:50:04.028051Z"
    }
   },
   "outputs": [],
   "source": [
    "# basic operations\n",
    "import os\n",
    "import re\n",
    "import logging\n",
    "import time\n",
    "import pickle\n",
    "\n",
    "# utilities\n",
    "from pprint import pprint as pp\n",
    "\n",
    "# data analysis/management/manipulation\n",
    "import numpy as np\n",
    "import pandas as pd\n",
    "import sklearn\n",
    "\n",
    "# text analysis\n",
    "import gensim\n",
    "from gensim.corpora import Dictionary, MmCorpus\n",
    "from gensim.models import LdaModel, ldamodel\n",
    "from gensim.models import LsiModel, lsimodel\n",
    "from gensim.models import Phrases\n",
    "from gensim.models import CoherenceModel\n",
    "from gensim.corpora import Dictionary\n",
    "from gensim.similarities import MatrixSimilarity\n",
    "'''\n",
    "Uncomment the next two lines of code if you don't have a copy of the\n",
    "Mallet software installed in your machine\n",
    "'''\n",
    "# ! wget http://mallet.cs.umass.edu/dist/mallet-2.0.8.zip # * updated if needed *\n",
    "# ! unzip mallet-2.0.8.zip\n",
    "MALLET_PATH = '/Users/omoi/Documents/SMM694-NLP/mallet-2.0.8/bin/mallet'\n",
    "import spacy\n",
    "import en_core_web_lg\n",
    "\n",
    "# multivariate analysis\n",
    "from sklearn import manifold\n",
    "from sklearn.metrics import euclidean_distances\n",
    "from sklearn.decomposition import PCA\n",
    "\n",
    "# distance metrics\n",
    "from scipy.spatial.distance import cosine\n",
    "\n",
    "# visualization\n",
    "import matplotlib.pyplot as plt\n",
    "import matplotlib.cm as cm\n",
    "import pyLDAvis\n",
    "import pyLDAvis.gensim # directly import the module `gensim'!"
   ]
  },
  {
   "cell_type": "markdown",
   "metadata": {},
   "source": [
    "# Topic Modelling"
   ]
  },
  {
   "cell_type": "markdown",
   "metadata": {},
   "source": [
    "## Model building"
   ]
  },
  {
   "cell_type": "markdown",
   "metadata": {},
   "source": [
    "### Text transformation"
   ]
  },
  {
   "cell_type": "code",
   "execution_count": 26,
   "metadata": {
    "ExecuteTime": {
     "end_time": "2020-07-07T15:50:06.174199Z",
     "start_time": "2020-07-07T15:50:06.153018Z"
    }
   },
   "outputs": [
    {
     "ename": "FileNotFoundError",
     "evalue": "[Errno 2] No such file or directory: '/Users/omoi/Documents/SMM694-NLP/corpus/pr_docs_phrased.pickle'",
     "output_type": "error",
     "traceback": [
      "\u001b[0;31m---------------------------------------------------------------------------\u001b[0m",
      "\u001b[0;31mFileNotFoundError\u001b[0m                         Traceback (most recent call last)",
      "\u001b[0;32m<ipython-input-26-bf7f1daecd27>\u001b[0m in \u001b[0;36m<module>\u001b[0;34m\u001b[0m\n\u001b[1;32m     13\u001b[0m \u001b[0;31m# docs_phrased\u001b[0m\u001b[0;34m\u001b[0m\u001b[0;34m\u001b[0m\u001b[0;34m\u001b[0m\u001b[0m\n\u001b[1;32m     14\u001b[0m \u001b[0min_f\u001b[0m \u001b[0;34m=\u001b[0m \u001b[0mos\u001b[0m\u001b[0;34m.\u001b[0m\u001b[0mpath\u001b[0m\u001b[0;34m.\u001b[0m\u001b[0mjoin\u001b[0m\u001b[0;34m(\u001b[0m\u001b[0mPATH\u001b[0m\u001b[0;34m,\u001b[0m \u001b[0mFILE\u001b[0m\u001b[0;34m,\u001b[0m \u001b[0;34m'pr_docs_phrased.pickle'\u001b[0m\u001b[0;34m)\u001b[0m\u001b[0;34m\u001b[0m\u001b[0;34m\u001b[0m\u001b[0m\n\u001b[0;32m---> 15\u001b[0;31m \u001b[0;32mwith\u001b[0m \u001b[0mopen\u001b[0m\u001b[0;34m(\u001b[0m\u001b[0min_f\u001b[0m\u001b[0;34m,\u001b[0m \u001b[0;34m'rb'\u001b[0m\u001b[0;34m)\u001b[0m \u001b[0;32mas\u001b[0m \u001b[0mpipe\u001b[0m\u001b[0;34m:\u001b[0m\u001b[0;34m\u001b[0m\u001b[0;34m\u001b[0m\u001b[0m\n\u001b[0m\u001b[1;32m     16\u001b[0m     \u001b[0mdocs_phrased\u001b[0m \u001b[0;34m=\u001b[0m \u001b[0mpickle\u001b[0m\u001b[0;34m.\u001b[0m\u001b[0mload\u001b[0m\u001b[0;34m(\u001b[0m\u001b[0mpipe\u001b[0m\u001b[0;34m)\u001b[0m\u001b[0;34m\u001b[0m\u001b[0;34m\u001b[0m\u001b[0m\n",
      "\u001b[0;31mFileNotFoundError\u001b[0m: [Errno 2] No such file or directory: '/Users/omoi/Documents/SMM694-NLP/corpus/pr_docs_phrased.pickle'"
     ]
    }
   ],
   "source": [
    "# read the dictionary and text corpus\n",
    "PATH = os.getcwd()\n",
    "FILE = 'corpus'\n",
    "\n",
    "# dictionary\n",
    "in_f = os.path.join(PATH, FILE, 'pr_dictionary.dict')\n",
    "DICT = Dictionary.load(in_f)\n",
    "\n",
    "# corpus\n",
    "in_f = os.path.join(PATH, FILE, 'pr_corpus.mm')\n",
    "CORPUS = MmCorpus(in_f)\n",
    "\n",
    "# docs_phrased\n",
    "in_f = os.path.join(PATH, FILE, 'pr_docs_phrased.pickle')\n",
    "with open(in_f, 'rb') as pipe:\n",
    "    docs_phrased = pickle.load(pipe)"
   ]
  },
  {
   "cell_type": "code",
   "execution_count": 19,
   "metadata": {
    "ExecuteTime": {
     "end_time": "2020-07-07T15:20:43.881503Z",
     "start_time": "2020-07-07T15:20:43.865586Z"
    }
   },
   "outputs": [
    {
     "data": {
      "text/html": [
       "<div>\n",
       "<style scoped>\n",
       "    .dataframe tbody tr th:only-of-type {\n",
       "        vertical-align: middle;\n",
       "    }\n",
       "\n",
       "    .dataframe tbody tr th {\n",
       "        vertical-align: top;\n",
       "    }\n",
       "\n",
       "    .dataframe thead th {\n",
       "        text-align: right;\n",
       "    }\n",
       "</style>\n",
       "<table border=\"1\" class=\"dataframe\">\n",
       "  <thead>\n",
       "    <tr style=\"text-align: right;\">\n",
       "      <th></th>\n",
       "      <th>country</th>\n",
       "      <th>name</th>\n",
       "    </tr>\n",
       "  </thead>\n",
       "  <tbody>\n",
       "    <tr>\n",
       "      <th>count</th>\n",
       "      <td>182</td>\n",
       "      <td>182</td>\n",
       "    </tr>\n",
       "    <tr>\n",
       "      <th>unique</th>\n",
       "      <td>3</td>\n",
       "      <td>182</td>\n",
       "    </tr>\n",
       "    <tr>\n",
       "      <th>top</th>\n",
       "      <td>united kingdom</td>\n",
       "      <td>groupe casino</td>\n",
       "    </tr>\n",
       "    <tr>\n",
       "      <th>freq</th>\n",
       "      <td>88</td>\n",
       "      <td>1</td>\n",
       "    </tr>\n",
       "  </tbody>\n",
       "</table>\n",
       "</div>"
      ],
      "text/plain": [
       "               country           name\n",
       "count              182            182\n",
       "unique               3            182\n",
       "top     united kingdom  groupe casino\n",
       "freq                88              1"
      ]
     },
     "execution_count": 19,
     "metadata": {},
     "output_type": "execute_result"
    }
   ],
   "source": [
    "FILE = 'brexit'\n",
    "\n",
    "# company list\n",
    "in_f = os.path.join(PATH, FILE, 'companies.csv')\n",
    "companies = pd.read_csv(in_f)\n",
    "companies.describe()"
   ]
  },
  {
   "cell_type": "markdown",
   "metadata": {},
   "source": [
    "### Mallet's implementation of LDA algorithm (using Gibbs sampling)"
   ]
  },
  {
   "cell_type": "code",
   "execution_count": 20,
   "metadata": {
    "ExecuteTime": {
     "end_time": "2020-07-07T15:21:36.670612Z",
     "start_time": "2020-07-07T15:20:51.708696Z"
    }
   },
   "outputs": [
    {
     "data": {
      "text/plain": [
       "[(0,\n",
       "  '0.048*\"sea\" + 0.033*\"island\" + 0.031*\"coast\" + 0.026*\"art\" + 0.025*\"part\"'),\n",
       " (1,\n",
       "  '0.034*\"july\" + 0.024*\"carney\" + 0.018*\"bank_of_england\" + 0.018*\"good\" + 0.016*\"george_osborne\"'),\n",
       " (2,\n",
       "  '0.087*\"reef\" + 0.057*\"australia\" + 0.044*\"-PRON-\" + 0.034*\"barrier\" + 0.034*\"great\"'),\n",
       " (3, '0.229*\"xc_x\" + 0.116*\"year\" + 0.062*\"pay\" + 0.031*\"uk\" + 0.028*\"\\'s\"'),\n",
       " (4,\n",
       "  '0.080*\"school\" + 0.043*\"family\" + 0.034*\"parent\" + 0.033*\"trust\" + 0.027*\"academy\"'),\n",
       " (5,\n",
       "  '0.143*\"-PRON-\" + 0.046*\"real\" + 0.034*\"game\" + 0.027*\"estate\" + 0.027*\"feature\"'),\n",
       " (6,\n",
       "  '0.028*\"continue\" + 0.028*\"plan\" + 0.027*\"team\" + 0.027*\"give\" + 0.025*\"itv\"'),\n",
       " (7,\n",
       "  '0.127*\"charity\" + 0.047*\"good\" + 0.037*\"people\" + 0.033*\"surplus\" + 0.030*\"raise\"'),\n",
       " (8,\n",
       "  '0.071*\"school\" + 0.048*\"student\" + 0.045*\"learn\" + 0.027*\"environment\" + 0.021*\"find\"'),\n",
       " (9,\n",
       "  '0.051*\"valley\" + 0.039*\"silicon\" + 0.033*\"start\" + 0.033*\"tech\" + 0.019*\"man\"'),\n",
       " (10,\n",
       "  '0.049*\"year\" + 0.049*\"low\" + 0.045*\"bond\" + 0.043*\"yield\" + 0.034*\"market\"'),\n",
       " (11,\n",
       "  '0.043*\"chef\" + 0.023*\"italian\" + 0.020*\"kitchen\" + 0.018*\"winnow\" + 0.018*\"dish\"'),\n",
       " (12,\n",
       "  '0.127*\"nhs\" + 0.090*\"health\" + 0.070*\"care\" + 0.039*\"service\" + 0.030*\"hospital\"'),\n",
       " (13,\n",
       "  '0.180*\"year\" + 0.039*\"call\" + 0.039*\"end\" + 0.031*\"begin\" + 0.027*\"put\"'),\n",
       " (14,\n",
       "  '0.252*\"-PRON-\" + 0.052*\"\\'s\" + 0.044*\"state\" + 0.028*\"suggest\" + 0.024*\"claim\"'),\n",
       " (15,\n",
       "  '0.104*\"africa\" + 0.051*\"south\" + 0.038*\"wildlife\" + 0.034*\"conservation\" + 0.029*\"african\"'),\n",
       " (16,\n",
       "  '0.205*\"-PRON-\" + 0.035*\"meat\" + 0.027*\"eat\" + 0.026*\"elephant\" + 0.021*\"hunt\"'),\n",
       " (17,\n",
       "  '0.092*\"-PRON-\" + 0.037*\"debt\" + 0.034*\"government\" + 0.033*\"default\" + 0.031*\"bond\"'),\n",
       " (18,\n",
       "  '0.060*\"austin_news\" + 0.056*\"font\" + 0.049*\"deck_web\" + 0.044*\"telegraph_co\" + 0.044*\"uk\"'),\n",
       " (19,\n",
       "  '0.074*\"airport\" + 0.059*\"london\" + 0.028*\"heathrow\" + 0.027*\"croatia\" + 0.025*\"flight\"'),\n",
       " (20,\n",
       "  '0.116*\"impact\" + 0.053*\"-PRON-\" + 0.052*\"social\" + 0.028*\"investing\" + 0.027*\"foundation\"'),\n",
       " (21,\n",
       "  '0.090*\"power\" + 0.078*\"energy\" + 0.054*\"wind\" + 0.050*\"electricity\" + 0.043*\"renewable\"'),\n",
       " (22,\n",
       "  '0.068*\"shell\" + 0.049*\"scheme\" + 0.039*\"egg\" + 0.037*\"eggshell\" + 0.025*\"battle\"'),\n",
       " (23,\n",
       "  '0.065*\"event\" + 0.047*\"host\" + 0.046*\"association\" + 0.039*\"discussion\" + 0.034*\"include\"'),\n",
       " (24,\n",
       "  '0.196*\"council\" + 0.112*\"local\" + 0.104*\"government\" + 0.031*\"community\" + 0.028*\"centre\"'),\n",
       " (25,\n",
       "  '0.069*\"power\" + 0.059*\"battery\" + 0.027*\"engine\" + 0.027*\"add\" + 0.023*\"require\"'),\n",
       " (26,\n",
       "  '0.046*\"rhinehart\" + 0.034*\"eat\" + 0.029*\"day\" + 0.026*\"soylent\" + 0.026*\"don_t\"'),\n",
       " (27,\n",
       "  '0.188*\"tax\" + 0.042*\"pay\" + 0.040*\"reduce\" + 0.040*\"country\" + 0.036*\"make\"'),\n",
       " (28,\n",
       "  '0.518*\"-PRON-\" + 0.036*\"make\" + 0.031*\"year\" + 0.018*\"run\" + 0.018*\"part\"'),\n",
       " (29,\n",
       "  '0.117*\"-PRON-\" + 0.046*\"collapse\" + 0.043*\"country\" + 0.037*\"figure\" + 0.030*\"state\"'),\n",
       " (30,\n",
       "  '0.129*\"director\" + 0.046*\"executive\" + 0.044*\"general\" + 0.038*\"association\" + 0.037*\"national\"'),\n",
       " (31,\n",
       "  '0.035*\"park\" + 0.031*\"\\'s\" + 0.026*\"site\" + 0.026*\"land\" + 0.025*\"century\"'),\n",
       " (32,\n",
       "  '0.094*\"environment\" + 0.086*\"environmental\" + 0.052*\"air\" + 0.048*\"pollution\" + 0.036*\"year\"'),\n",
       " (33,\n",
       "  '0.078*\"home\" + 0.060*\"building\" + 0.060*\"-PRON-\" + 0.054*\"house\" + 0.044*\"build\"'),\n",
       " (34,\n",
       "  '0.045*\"club\" + 0.041*\"sport\" + 0.037*\"sky\" + 0.028*\"league\" + 0.028*\"football\"'),\n",
       " (35,\n",
       "  '0.039*\"good\" + 0.037*\"luxury\" + 0.020*\"people\" + 0.018*\"diamond\" + 0.017*\"today\"'),\n",
       " (36,\n",
       "  '0.188*\"oil\" + 0.043*\"demand\" + 0.038*\"gas\" + 0.038*\"price\" + 0.027*\"investor\"'),\n",
       " (37,\n",
       "  '0.109*\"development\" + 0.046*\"global\" + 0.044*\"goal\" + 0.035*\"sustainable\" + 0.026*\"international\"'),\n",
       " (38,\n",
       "  '0.144*\"-PRON-\" + 0.075*\"public\" + 0.051*\"service\" + 0.049*\"people\" + 0.042*\"good\"'),\n",
       " (39,\n",
       "  '0.042*\"produce\" + 0.038*\"wear\" + 0.035*\"red\" + 0.035*\"fashion\" + 0.023*\"black\"'),\n",
       " (40,\n",
       "  '0.122*\"country\" + 0.049*\"world\" + 0.043*\"international\" + 0.037*\"global\" + 0.030*\"state\"'),\n",
       " (41,\n",
       "  '0.083*\"steel\" + 0.057*\"business\" + 0.057*\"tata\" + 0.049*\"uk\" + 0.029*\"port\"'),\n",
       " (42,\n",
       "  '0.084*\"-PRON-\" + 0.079*\"change\" + 0.029*\"problem\" + 0.023*\"present\" + 0.023*\"important\"'),\n",
       " (43,\n",
       "  '0.083*\"sir\" + 0.057*\"carry\" + 0.041*\"open\" + 0.031*\"book\" + 0.027*\"idea\"'),\n",
       " (44,\n",
       "  '0.036*\"day\" + 0.034*\"year\" + 0.029*\"gain\" + 0.025*\"open\" + 0.024*\"uncertainty\"'),\n",
       " (45,\n",
       "  '0.042*\"-PRON-\" + 0.036*\"royal\" + 0.033*\"\\'s\" + 0.031*\"palace\" + 0.030*\"london\"'),\n",
       " (46,\n",
       "  '0.330*\"professor\" + 0.026*\"john\" + 0.020*\"david\" + 0.018*\"sir\" + 0.014*\"robert\"'),\n",
       " (47,\n",
       "  '0.037*\"explore\" + 0.036*\"activity\" + 0.024*\"experience\" + 0.023*\"festival\" + 0.022*\"hand\"'),\n",
       " (48,\n",
       "  '0.531*\"-PRON-\" + 0.039*\"\\'s\" + 0.017*\"day\" + 0.016*\"world\" + 0.012*\"win\"'),\n",
       " (49,\n",
       "  '0.071*\"refugee\" + 0.066*\"-PRON-\" + 0.047*\"sustainable\" + 0.038*\"human\" + 0.032*\"programme\"'),\n",
       " (50,\n",
       "  '0.065*\"game\" + 0.061*\"olympic\" + 0.047*\"sport\" + 0.031*\"athlete\" + 0.026*\"russian\"'),\n",
       " (51,\n",
       "  '0.035*\"risk\" + 0.034*\"\\'s\" + 0.027*\"undermine\" + 0.026*\"push\" + 0.023*\"fear\"'),\n",
       " (52,\n",
       "  '0.180*\"woman\" + 0.043*\"girl\" + 0.030*\"gender\" + 0.017*\"hiv\" + 0.017*\"panel\"'),\n",
       " (53,\n",
       "  '0.045*\"\\'s\" + 0.041*\"barcelona\" + 0.040*\"tourist\" + 0.030*\"city\" + 0.029*\"xc\"'),\n",
       " (54,\n",
       "  '0.095*\"worker\" + 0.038*\"job\" + 0.036*\"cost\" + 0.036*\"migrant\" + 0.035*\"make\"'),\n",
       " (55,\n",
       "  '0.026*\"xc_x\" + 0.024*\"include\" + 0.024*\"expert\" + 0.022*\"room\" + 0.019*\"book\"'),\n",
       " (56,\n",
       "  '0.039*\"chemical\" + 0.029*\"monsanto\" + 0.029*\"bayer\" + 0.028*\"bee\" + 0.025*\"scientist\"'),\n",
       " (57,\n",
       "  '0.118*\"report\" + 0.063*\"\\'s\" + 0.038*\"positive\" + 0.038*\"decision\" + 0.028*\"reason\"'),\n",
       " (58,\n",
       "  '0.049*\"architecture\" + 0.041*\"building\" + 0.037*\"architect\" + 0.033*\"concrete\" + 0.029*\"glass\"'),\n",
       " (59,\n",
       "  '0.100*\"product\" + 0.068*\"\\'s\" + 0.067*\"consumer\" + 0.065*\"industry\" + 0.053*\"brand\"'),\n",
       " (60,\n",
       "  '0.098*\"waste\" + 0.038*\"produce\" + 0.035*\"circular\" + 0.030*\"plant\" + 0.027*\"material\"'),\n",
       " (61,\n",
       "  '0.084*\"people\" + 0.056*\"income\" + 0.043*\"employment\" + 0.038*\"basic\" + 0.037*\"disabled\"'),\n",
       " (62,\n",
       "  '0.049*\"effect\" + 0.032*\"reality\" + 0.031*\"happen\" + 0.025*\"assume\" + 0.025*\"force\"'),\n",
       " (63,\n",
       "  '0.130*\"fund\" + 0.106*\"investment\" + 0.086*\"-PRON-\" + 0.039*\"invest\" + 0.034*\"asset\"'),\n",
       " (64,\n",
       "  '0.048*\"fiscal\" + 0.037*\"policy\" + 0.037*\"economy\" + 0.032*\"government\" + 0.031*\"debt\"'),\n",
       " (65,\n",
       "  '0.211*\"business\" + 0.045*\"small\" + 0.044*\"enterprise\" + 0.035*\"work\" + 0.027*\"base\"'),\n",
       " (66,\n",
       "  '0.048*\"officer\" + 0.040*\"royal\" + 0.036*\"police\" + 0.030*\"british\" + 0.027*\"chair\"'),\n",
       " (67,\n",
       "  '0.172*\"-PRON-\" + 0.035*\"sector\" + 0.031*\"follow\" + 0.028*\"twitter\" + 0.027*\"public\"'),\n",
       " (68,\n",
       "  '0.059*\"group\" + 0.042*\"move\" + 0.041*\"head\" + 0.037*\"join\" + 0.031*\"london\"'),\n",
       " (69,\n",
       "  '0.073*\"farmer\" + 0.049*\"fairtrade\" + 0.041*\"farm\" + 0.035*\"business\" + 0.024*\"agriculture\"'),\n",
       " (70,\n",
       "  '0.055*\"beach\" + 0.031*\"contact\" + 0.030*\"\\'s\" + 0.028*\"nearby\" + 0.023*\"stay_nearby\"'),\n",
       " (71,\n",
       "  '0.068*\"director\" + 0.057*\"shareholder\" + 0.055*\"pay\" + 0.048*\"uk\" + 0.047*\"board\"'),\n",
       " (72,\n",
       "  '0.273*\"-PRON-\" + 0.030*\"risk\" + 0.026*\"\\'s\" + 0.025*\"give\" + 0.018*\"make\"'),\n",
       " (73,\n",
       "  '0.053*\"west\" + 0.041*\"move\" + 0.033*\"president\" + 0.031*\"\\'s\" + 0.030*\"country\"'),\n",
       " (74,\n",
       "  '0.041*\"natural\" + 0.028*\"biodiversity\" + 0.025*\"human\" + 0.021*\"loss\" + 0.020*\"world\"'),\n",
       " (75,\n",
       "  '0.095*\"-PRON-\" + 0.032*\"europe\" + 0.032*\"eurozone\" + 0.031*\"brexit\" + 0.029*\"germany\"'),\n",
       " (76,\n",
       "  '0.090*\"sustainability\" + 0.056*\"irish\" + 0.047*\"ireland\" + 0.027*\"origin\" + 0.027*\"manager\"'),\n",
       " (77,\n",
       "  '0.153*\"china\" + 0.065*\"bn\" + 0.044*\"uber\" + 0.042*\"chinese\" + 0.042*\"share\"'),\n",
       " (78,\n",
       "  '0.087*\"-PRON-\" + 0.067*\"company\" + 0.065*\"tesla\" + 0.050*\"musk\" + 0.033*\"solarcity\"'),\n",
       " (79,\n",
       "  '0.126*\"\\'s\" + 0.113*\"bn\" + 0.055*\"include\" + 0.038*\"plan\" + 0.038*\"point\"'),\n",
       " (80,\n",
       "  '0.069*\"greece\" + 0.048*\"debt\" + 0.047*\"imf\" + 0.033*\"greek\" + 0.029*\"eurozone\"'),\n",
       " (81,\n",
       "  '0.048*\"trump\" + 0.032*\"campaign\" + 0.031*\"government\" + 0.030*\"election\" + 0.030*\"labor\"'),\n",
       " (82,\n",
       "  '0.070*\"low\" + 0.064*\"cost\" + 0.064*\"access\" + 0.054*\"private\" + 0.049*\"finance\"'),\n",
       " (83,\n",
       "  '0.200*\"-PRON-\" + 0.155*\"company\" + 0.054*\"business\" + 0.047*\"group\" + 0.027*\"industry\"'),\n",
       " (84,\n",
       "  '0.045*\"bn\" + 0.035*\"share\" + 0.034*\"dong\" + 0.031*\"government\" + 0.029*\"interest\"'),\n",
       " (85,\n",
       "  '0.316*\"water\" + 0.023*\"flood\" + 0.022*\"nature\" + 0.020*\"large\" + 0.013*\"economic\"'),\n",
       " (86,\n",
       "  '0.166*\"per_cent\" + 0.077*\"year\" + 0.047*\"\\'s\" + 0.035*\"rise\" + 0.034*\"growth\"'),\n",
       " (87,\n",
       "  '0.275*\"-PRON-\" + 0.064*\"offer\" + 0.045*\"day\" + 0.029*\"high\" + 0.024*\"free\"'),\n",
       " (88,\n",
       "  '0.150*\"eu\" + 0.095*\"uk\" + 0.053*\"europe\" + 0.047*\"european\" + 0.030*\"\\'s\"'),\n",
       " (89,\n",
       "  '0.064*\"osborne\" + 0.057*\"deficit\" + 0.049*\"chancellor\" + 0.039*\"budget\" + 0.034*\"high\"'),\n",
       " (90,\n",
       "  '0.081*\"community\" + 0.030*\"iona\" + 0.027*\"abbey\" + 0.027*\"year\" + 0.024*\"centre\"'),\n",
       " (91,\n",
       "  '0.043*\"michael\" + 0.038*\"richard\" + 0.034*\"smith\" + 0.031*\"thomas\" + 0.030*\"george\"'),\n",
       " (92,\n",
       "  '0.047*\"\\'s\" + 0.032*\"turnbull\" + 0.026*\"coalition\" + 0.026*\"leader\" + 0.025*\"action\"'),\n",
       " (93,\n",
       "  '0.077*\"war\" + 0.031*\"life\" + 0.026*\"british\" + 0.025*\"soviet\" + 0.024*\"base\"'),\n",
       " (94,\n",
       "  '0.045*\"construction\" + 0.043*\"low\" + 0.040*\"year\" + 0.039*\"uk\" + 0.030*\"activity\"'),\n",
       " (95,\n",
       "  '0.140*\"-PRON-\" + 0.043*\"fish\" + 0.038*\"change\" + 0.038*\"chip\" + 0.026*\"box\"'),\n",
       " (96,\n",
       "  '0.074*\"-PRON-\" + 0.037*\"fossil_fuel\" + 0.033*\"source\" + 0.033*\"price\" + 0.027*\"oil\"'),\n",
       " (97,\n",
       "  '0.068*\"aid\" + 0.068*\"humanitarian\" + 0.043*\"development\" + 0.041*\"people\" + 0.028*\"international\"'),\n",
       " (98,\n",
       "  '0.028*\"britain\" + 0.026*\"british\" + 0.020*\"travel\" + 0.018*\"year\" + 0.018*\"economy\"'),\n",
       " (99,\n",
       "  '0.056*\"david\" + 0.036*\"research\" + 0.028*\"centre\" + 0.026*\"peter\" + 0.025*\"stephen\"'),\n",
       " (100,\n",
       "  '0.155*\"-PRON-\" + 0.044*\"action\" + 0.039*\"report\" + 0.024*\"government\" + 0.023*\"set\"'),\n",
       " (101,\n",
       "  '0.101*\"solar\" + 0.058*\"\\'s\" + 0.047*\"cost\" + 0.046*\"energy\" + 0.038*\"technology\"'),\n",
       " (102,\n",
       "  '0.176*\"-PRON-\" + 0.049*\"party\" + 0.041*\"\\'s\" + 0.037*\"power\" + 0.027*\"political\"'),\n",
       " (103,\n",
       "  '0.120*\"car\" + 0.049*\"electric\" + 0.047*\"vehicle\" + 0.031*\"transport\" + 0.030*\"technology\"'),\n",
       " (104,\n",
       "  '0.104*\"community\" + 0.046*\"john\" + 0.035*\"people\" + 0.020*\"school\" + 0.020*\"trust\"'),\n",
       " (105,\n",
       "  '0.047*\"tv\" + 0.035*\"brown\" + 0.031*\"netflix\" + 0.029*\"june\" + 0.027"
      ]
     },
     "execution_count": 20,
     "metadata": {},
     "output_type": "execute_result"
    },
    {
     "data": {
      "text/html": [
       "<b>limit_output extension: Maximum message size of 10000 exceeded with 17238 characters</b>"
      ]
     },
     "metadata": {},
     "output_type": "display_data"
    }
   ],
   "source": [
    "'''\n",
    "Based on Gardner et al's LQ paper, we expect to see\n",
    "29 distinctive topics circa\n",
    "'''\n",
    "N_TOPICS = 182\n",
    "LDA_MALLET = gensim.models.wrappers.LdaMallet(MALLET_PATH,\n",
    "                                              corpus=CORPUS,\n",
    "                                              num_topics=N_TOPICS,\n",
    "                                              id2word=DICT,\n",
    "                                              random_seed=123)\n",
    "LDA_MALLET.print_topics(num_topics=N_TOPICS, num_words=5)"
   ]
  },
  {
   "cell_type": "markdown",
   "metadata": {},
   "source": [
    "## Model evaluation"
   ]
  },
  {
   "cell_type": "markdown",
   "metadata": {},
   "source": [
    "### Get range of coherence values as the number of retained topics change"
   ]
  },
  {
   "cell_type": "code",
   "execution_count": 21,
   "metadata": {
    "ExecuteTime": {
     "end_time": "2020-07-07T15:24:29.308076Z",
     "start_time": "2020-07-07T15:24:29.302283Z"
    }
   },
   "outputs": [],
   "source": [
    "# define function\n",
    "def compute_coherence_values(dictionary, corpus, texts, limit, start, step):\n",
    "    \"\"\"\n",
    "    Compute c_v coherence for various number of topics\n",
    "\n",
    "    Parameters:\n",
    "    -----------\n",
    "    dictionary : Gensim dictionary\n",
    "    corpus     : Gensim corpus\n",
    "    texts      : List of input texts\n",
    "    limit      : Max number of topics\n",
    "\n",
    "    Returns:\n",
    "    --------\n",
    "    model_list       : List of LDA topic models\n",
    "    coherence_values : Coherence values corresponding to the LDA model\n",
    "                       with respective number of topics\n",
    "    \"\"\"\n",
    "    coherence_values = []\n",
    "    model_list = []\n",
    "    mallet_path = MALLET_PATH\n",
    "    for num_topics in range(start, limit, step):\n",
    "        model = gensim.models.wrappers.LdaMallet(mallet_path,\n",
    "                                                 corpus=corpus,\n",
    "                                                 num_topics=num_topics,\n",
    "                                                 id2word=dictionary,\n",
    "                                                 random_seed=123)\n",
    "        model_list.append(model)\n",
    "        coherencemodel = CoherenceModel(model=model,\n",
    "                                        texts=texts,\n",
    "                                        dictionary=dictionary,\n",
    "                                        coherence='c_v')\n",
    "        coherence_values.append(coherencemodel.get_coherence())\n",
    "\n",
    "    return model_list, coherence_values"
   ]
  },
  {
   "cell_type": "code",
   "execution_count": 22,
   "metadata": {
    "ExecuteTime": {
     "end_time": "2020-07-07T15:24:37.648045Z",
     "start_time": "2020-07-07T15:24:37.632105Z"
    }
   },
   "outputs": [
    {
     "ename": "NameError",
     "evalue": "name 'DOCS_PHRASED' is not defined",
     "output_type": "error",
     "traceback": [
      "\u001b[0;31m---------------------------------------------------------------------------\u001b[0m",
      "\u001b[0;31mNameError\u001b[0m                                 Traceback (most recent call last)",
      "\u001b[0;32m<ipython-input-22-61a62ce38a54>\u001b[0m in \u001b[0;36m<module>\u001b[0;34m\u001b[0m\n\u001b[1;32m      3\u001b[0m MODEL_LIST, COHER_VALS = compute_coherence_values(dictionary=DICT,\n\u001b[1;32m      4\u001b[0m                                                   \u001b[0mcorpus\u001b[0m\u001b[0;34m=\u001b[0m\u001b[0mCORPUS\u001b[0m\u001b[0;34m,\u001b[0m\u001b[0;34m\u001b[0m\u001b[0;34m\u001b[0m\u001b[0m\n\u001b[0;32m----> 5\u001b[0;31m                                                   \u001b[0mtexts\u001b[0m\u001b[0;34m=\u001b[0m\u001b[0mDOCS_PHRASED\u001b[0m\u001b[0;34m,\u001b[0m\u001b[0;34m\u001b[0m\u001b[0;34m\u001b[0m\u001b[0m\n\u001b[0m\u001b[1;32m      6\u001b[0m                                                   \u001b[0mstart\u001b[0m\u001b[0;34m=\u001b[0m\u001b[0mSTART\u001b[0m\u001b[0;34m,\u001b[0m\u001b[0;34m\u001b[0m\u001b[0;34m\u001b[0m\u001b[0m\n\u001b[1;32m      7\u001b[0m                                                   \u001b[0mlimit\u001b[0m\u001b[0;34m=\u001b[0m\u001b[0mLIMIT\u001b[0m\u001b[0;34m,\u001b[0m\u001b[0;34m\u001b[0m\u001b[0;34m\u001b[0m\u001b[0m\n",
      "\u001b[0;31mNameError\u001b[0m: name 'DOCS_PHRASED' is not defined"
     ]
    }
   ],
   "source": [
    "# collect coherence scores as the number of retained topics change\n",
    "LIMIT, START, STEP = 30, 10, 1\n",
    "MODEL_LIST, COHER_VALS = compute_coherence_values(dictionary=DICT,\n",
    "                                                  corpus=CORPUS,\n",
    "                                                  texts=DOCS_PHRASED,\n",
    "                                                  start=START,\n",
    "                                                  limit=LIMIT,\n",
    "                                                  step=STEP)"
   ]
  },
  {
   "cell_type": "code",
   "execution_count": null,
   "metadata": {},
   "outputs": [],
   "source": []
  }
 ],
 "metadata": {
  "kernelspec": {
   "display_name": "Python [conda env:nlp] *",
   "language": "python",
   "name": "conda-env-nlp-py"
  },
  "language_info": {
   "codemirror_mode": {
    "name": "ipython",
    "version": 3
   },
   "file_extension": ".py",
   "mimetype": "text/x-python",
   "name": "python",
   "nbconvert_exporter": "python",
   "pygments_lexer": "ipython3",
   "version": "3.7.7"
  },
  "toc": {
   "base_numbering": 1,
   "nav_menu": {},
   "number_sections": true,
   "sideBar": true,
   "skip_h1_title": false,
   "title_cell": "Table of Contents",
   "title_sidebar": "Contents",
   "toc_cell": false,
   "toc_position": {},
   "toc_section_display": true,
   "toc_window_display": false
  },
  "varInspector": {
   "cols": {
    "lenName": 16,
    "lenType": 16,
    "lenVar": 40
   },
   "kernels_config": {
    "python": {
     "delete_cmd_postfix": "",
     "delete_cmd_prefix": "del ",
     "library": "var_list.py",
     "varRefreshCmd": "print(var_dic_list())"
    },
    "r": {
     "delete_cmd_postfix": ") ",
     "delete_cmd_prefix": "rm(",
     "library": "var_list.r",
     "varRefreshCmd": "cat(var_dic_list()) "
    }
   },
   "types_to_exclude": [
    "module",
    "function",
    "builtin_function_or_method",
    "instance",
    "_Feature"
   ],
   "window_display": false
  }
 },
 "nbformat": 4,
 "nbformat_minor": 4
}
