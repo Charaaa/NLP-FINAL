{
 "cells": [
  {
   "cell_type": "markdown",
   "metadata": {},
   "source": [
    "# Session setup"
   ]
  },
  {
   "cell_type": "markdown",
   "metadata": {},
   "source": [
    "## libraries"
   ]
  },
  {
   "cell_type": "code",
   "execution_count": 1,
   "metadata": {
    "ExecuteTime": {
     "end_time": "2020-07-08T00:04:25.602486Z",
     "start_time": "2020-07-08T00:04:24.325851Z"
    }
   },
   "outputs": [],
   "source": [
    "# basic operations\n",
    "import os\n",
    "import logging\n",
    "import re\n",
    "from pprint import pprint as pp\n",
    "\n",
    "# data analysis/management/manipulation\n",
    "import numpy as np\n",
    "import pandas as pd\n",
    "import sklearn\n",
    "\n",
    "# nlp pipeline\n",
    "import spacy\n",
    "import en_core_web_lg\n",
    "MALLET_PATH = '/Users/omoi/Documents/SMM694-NLP/mallet-2.0.8/bin/mallet'\n",
    "\n",
    "# text analysis\n",
    "import gensim\n",
    "from gensim import corpora\n",
    "from gensim.corpora import Dictionary, MmCorpus\n",
    "from gensim.models import LdaModel, ldamodel\n",
    "from gensim.models import LsiModel, lsimodel\n",
    "from gensim.models import Phrases\n",
    "from gensim.models import CoherenceModel\n",
    "from gensim.corpora import Dictionary\n",
    "from gensim.similarities import MatrixSimilarity\n",
    "\n",
    "# multivariate analysis\n",
    "from sklearn import manifold\n",
    "from sklearn.metrics import euclidean_distances\n",
    "from sklearn.decomposition import PCA\n",
    "\n",
    "# distance metrics\n",
    "from scipy.spatial.distance import cosine\n",
    "\n",
    "# visualization\n",
    "import matplotlib.pyplot as plt\n",
    "import matplotlib.cm as cm\n",
    "import pyLDAvis\n",
    "import pyLDAvis.gensim # directly import the module `gensim'!"
   ]
  },
  {
   "cell_type": "markdown",
   "metadata": {},
   "source": [
    "## package version"
   ]
  },
  {
   "cell_type": "code",
   "execution_count": 2,
   "metadata": {
    "ExecuteTime": {
     "end_time": "2020-07-08T00:04:25.607599Z",
     "start_time": "2020-07-08T00:04:25.604552Z"
    }
   },
   "outputs": [
    {
     "name": "stdout",
     "output_type": "stream",
     "text": [
      "\n",
      "spaCy version: 2.1.3\n",
      "Gensim version: 3.8.0\n",
      "\n"
     ]
    }
   ],
   "source": [
    "print(\"\"\"\n",
    "spaCy version: {}\n",
    "Gensim version: {}\n",
    "\"\"\".format(spacy.__version__, gensim.__version__))"
   ]
  },
  {
   "cell_type": "markdown",
   "metadata": {},
   "source": [
    "## working directory"
   ]
  },
  {
   "cell_type": "code",
   "execution_count": 3,
   "metadata": {
    "ExecuteTime": {
     "end_time": "2020-07-08T00:04:25.611800Z",
     "start_time": "2020-07-08T00:04:25.609643Z"
    }
   },
   "outputs": [],
   "source": [
    "PATH = os.getcwd()\n",
    "FOLDER = 'brexit'"
   ]
  },
  {
   "cell_type": "markdown",
   "metadata": {},
   "source": [
    "# Read data"
   ]
  },
  {
   "cell_type": "code",
   "execution_count": 4,
   "metadata": {
    "ExecuteTime": {
     "end_time": "2020-07-08T00:04:25.639968Z",
     "start_time": "2020-07-08T00:04:25.613213Z"
    }
   },
   "outputs": [],
   "source": [
    "FILE1 = 'pr__sus_attr.csv'\n",
    "FILE2 = 'pr__sus_docs.csv'\n",
    "FILE3 = 'pr__sources.csv'\n",
    "pr_attr = pd.read_csv(os.path.join(PATH, FOLDER, FILE1))\n",
    "pr_docs = pd.read_csv(os.path.join(PATH, FOLDER, FILE2))\n",
    "pr_sources = pd.read_csv(os.path.join(PATH, FOLDER, FILE3))"
   ]
  },
  {
   "cell_type": "code",
   "execution_count": 5,
   "metadata": {
    "ExecuteTime": {
     "end_time": "2020-07-08T00:04:25.646021Z",
     "start_time": "2020-07-08T00:04:25.641703Z"
    }
   },
   "outputs": [
    {
     "data": {
      "text/plain": [
       "Index(['article', 'source', 'variable', 'value'], dtype='object')"
      ]
     },
     "execution_count": 5,
     "metadata": {},
     "output_type": "execute_result"
    }
   ],
   "source": [
    "pr_attr.columns"
   ]
  },
  {
   "cell_type": "code",
   "execution_count": 6,
   "metadata": {
    "ExecuteTime": {
     "end_time": "2020-07-08T00:04:25.650542Z",
     "start_time": "2020-07-08T00:04:25.647432Z"
    }
   },
   "outputs": [
    {
     "data": {
      "text/plain": [
       "Index(['source', 'text', 'article', 'start', 'id', 'sort'], dtype='object')"
      ]
     },
     "execution_count": 6,
     "metadata": {},
     "output_type": "execute_result"
    }
   ],
   "source": [
    "pr_docs.columns"
   ]
  },
  {
   "cell_type": "markdown",
   "metadata": {},
   "source": [
    "## clean the data"
   ]
  },
  {
   "cell_type": "code",
   "execution_count": 7,
   "metadata": {
    "ExecuteTime": {
     "end_time": "2020-07-08T00:04:25.666021Z",
     "start_time": "2020-07-08T00:04:25.653416Z"
    }
   },
   "outputs": [],
   "source": [
    "pr_date = pr_attr[pr_attr.variable == 'date'].drop(['variable','source'], axis=1)\n",
    "\n",
    "# the expected timespan is April 23, 2016 - August 23, 2016\n",
    "pr_timespan = pr_date[(pr_date.value < '2016-08-24 00:00:00') & (pr_date.value >= '2016-04-23 00:00:00')]\n",
    "\n",
    "# get list of chosen article id\n",
    "articles = pr_timespan.article.to_list()\n",
    "\n",
    "# join pr_docs and pr_timespan\n",
    "pr = pd.merge(pr_timespan, pr_docs, on=['article', 'article']).rename(columns={'value':'date'})\n",
    "pr.sort_values('date', inplace=True)"
   ]
  },
  {
   "cell_type": "markdown",
   "metadata": {},
   "source": [
    "# NLP Pipeline"
   ]
  },
  {
   "cell_type": "code",
   "execution_count": 8,
   "metadata": {
    "ExecuteTime": {
     "end_time": "2020-07-08T00:04:25.731168Z",
     "start_time": "2020-07-08T00:04:25.668631Z"
    }
   },
   "outputs": [],
   "source": [
    "# prepare list to pass through spacy\n",
    "docs = [article.strip().lower() for article in pr.text]\n",
    "\n",
    "# hyphen to underscores\n",
    "docs = [re.sub(r'\\b-\\b', '_', text) for text in docs]"
   ]
  },
  {
   "cell_type": "markdown",
   "metadata": {},
   "source": [
    "## simple 'web_lg'"
   ]
  },
  {
   "cell_type": "code",
   "execution_count": 9,
   "metadata": {
    "ExecuteTime": {
     "end_time": "2020-07-08T00:04:32.526699Z",
     "start_time": "2020-07-08T00:04:25.733231Z"
    }
   },
   "outputs": [],
   "source": [
    "# load spaCy model 'web_lg'\n",
    "nlp = en_core_web_lg.load()"
   ]
  },
  {
   "cell_type": "code",
   "execution_count": 10,
   "metadata": {
    "ExecuteTime": {
     "end_time": "2020-07-08T00:04:32.532148Z",
     "start_time": "2020-07-08T00:04:32.528628Z"
    }
   },
   "outputs": [],
   "source": [
    "# expand on spaCy's stopwords\n",
    "# my stopwrods\n",
    "my_stopwords = ['\\x1c',\n",
    "                'ft', 'wsj', 'time', 'sec',\n",
    "                'say', 'says', 'said',\n",
    "                'mr.', 'mister', 'mr', 'miss', 'ms',\n",
    "                'inc']\n",
    "# expand on spacy's stopwords\n",
    "for stopword in my_stopwords:\n",
    "    nlp.vocab[stopword].is_stop = True"
   ]
  },
  {
   "cell_type": "code",
   "execution_count": 11,
   "metadata": {
    "ExecuteTime": {
     "end_time": "2020-07-08T00:05:15.909842Z",
     "start_time": "2020-07-08T00:04:32.533636Z"
    }
   },
   "outputs": [],
   "source": [
    "# tokenize text\n",
    "docs_tokens, tmp_tokens = [], []\n",
    "\n",
    "for doc in docs:\n",
    "    tmp_tokens = [token.lemma_ for token in nlp(doc)\n",
    "                  if not token.is_stop\n",
    "                  and not token.is_space\n",
    "                  and not token.is_punct\n",
    "                  and not token.like_num\n",
    "                  and not token.like_url\n",
    "                  and not token.like_email\n",
    "                  and not token.is_currency\n",
    "                  and not token.is_oov]\n",
    "    docs_tokens.append(tmp_tokens)\n",
    "    tmp_tokens = []"
   ]
  },
  {
   "cell_type": "code",
   "execution_count": 12,
   "metadata": {
    "ExecuteTime": {
     "end_time": "2020-07-08T00:05:18.503995Z",
     "start_time": "2020-07-08T00:05:15.911085Z"
    }
   },
   "outputs": [],
   "source": [
    "phrases = Phrases(docs, min_count=30, progress_per=10000)"
   ]
  },
  {
   "cell_type": "code",
   "execution_count": 13,
   "metadata": {
    "ExecuteTime": {
     "end_time": "2020-07-08T00:05:20.055748Z",
     "start_time": "2020-07-08T00:05:18.505528Z"
    }
   },
   "outputs": [
    {
     "name": "stdout",
     "output_type": "stream",
     "text": [
      " Published text: highlight: ed crooks is fascinated by a biography of the scientist who predicted that oil production would soon start falling  the oracle of oil: a maverick geologist\\'s quest for a sustainable future by mason inman ww norton \\xc5\\x8120/ $29.95, 432 pages few scientific ideas have fallen out of favour as quickly as the claim that we are close to peak oil. the theory that the world\\'s output of crude was nearing the highest level it would ever reach was never exactly orthodoxy, but less than a decade ago it had widespread support. the weak form of the hypothesis, suggesting that the world was past peak production of low_cost \"easy oil\", was a commonplace among investors and in oil company boardrooms. the plunge in crude prices since the summer of 2014, triggered by a boom in us production, has made a mockery of that assessment. today the world is awash with oil, and the conventional wisdom is that it will stay well supplied for a long time to come.  this might, then, seem like an inopportune moment to be publishing the first biography of marion king hubbert, the scientist who made his name with warnings that peak oil was looming. these days you are more likely to see him cited as a punchline than as a respected authority. but with the oracle of oil , mason inman, a widely published writer on energy and the environment, is on a mission to rehabilitate the popular view of hubbert. although he is not entirely successful in that attempt, his sympathetic but clear_sighted portrayal is nevertheless a fascinating read. hubbert\\'s reputation rests on his prediction in 1956 that us oil output would peak in the next decade or so. controversial when it was made, his forecast seemed vindicated when us production did indeed hit a peak in 1970 and entered four decades of steady decline. that insight made hubbert an idol to advocates of renewable energy and resource conservation, but he was, on the surface, an unlikely radical. he spent most of his career at shell and then the united states geological survey and, until his later years, was an advocate of nuclear power as a solution to the shortages of oil and gas that he expected. inman shows, though, that hubbert did have a rebellious side. born in rural texas in 1903, he was in his twenties and thirties part of a sexually liberated avant_garde of new york intellectuals - imagine an american bloomsbury group made up of scientists and engineers rather than writers and artists. that group proselytised for the political philosophy of technocracy, a school of thought that flourished in the us in the 1930s after the great depression, advocating government control of the economy. free markets and the price mechanism brought disaster, the technocrats argued, and the allocation of resources should instead be managed by scientists and engineers like them. a fervent disciple of technocracy as a young man, hubbert drifted away from the movement later in life, but its principles shaped his ideas to the end. economists have often taken a relaxed attitude to warnings about peak oil, arguing that when supplies become tight, market forces will drive changes to both production and demand that will avert disaster. hubbert argued that there were nonetheless physical constraints on supply that could have damaging consequences if not respected. hubbert died in 1989 but his ideas would again find favour in 2008, as oil prices soared to more than $140 a barrel. since then, advances in production techniques have made it possible to produce oil and gas from shale reserves that had not previously been commercially viable. that has sent us output soaring, and raised the prospect that other countries with similar resources could also provide significant additional supplies to world markets. the history of oil shows that it is a perpetually cyclical business, and today\\'s comforting talk of an \"age of abundance\" will one day pass, just as fears about peak oil dissipated during the 2010s. hubbert\\'s critics can argue that is exactly the point: like the stopped watch that is right twice a day, his arguments are persuasive only when the oil market happens to be tight. his supporters respond that shale oil, which has higher production costs than the middle east\\'s reserves, is exactly the kind of expensive resource that hubbert argued the world would have to rely on as \"conventional\" supplies decline. inman has provided an excellent overview of the case for the defence, and readers will be able to decide for themselves whether they are convinced.  ed crooks is the ft\\'s us industry and energy editor Tokenized text: ['highlight', 'ed', 'crook', 'fascinate', 'biography', 'scientist', 'predict', 'oil', 'production', 'soon', 'start', 'fall', 'oracle', 'oil', 'maverick', 'quest', 'sustainable', 'future', 'mason', 'inman', 'ww', 'norton', 'page', 'scientific', 'idea', 'fall', 'favour', 'quickly', 'claim', 'close', 'peak', 'oil', 'theory', 'output', 'crude', 'near', 'high', 'level', 'reach', 'exactly', 'orthodoxy', 'decade', 'ago', 'widespread', 'support', 'weak', 'form', 'hypothesis', 'suggest', 'world', 'past', 'peak', 'production', 'easy', 'oil', 'commonplace', 'investor', 'oil', 'company', 'boardroom', 'plunge', 'crude', 'price', 'summer', 'trigger', 'boom', 'production', 'mockery', 'assessment', 'today', 'world', 'awash', 'oil', 'conventional', 'wisdom', 'stay', 'supply', 'long', 'come', 'like', 'inopportune', 'moment', 'publish', 'biography', 'marion', 'king', 'hubbert', 'scientist', 'warning', 'peak', 'oil', 'loom', 'day', 'likely', 'cite', 'punchline', 'respected', 'authority', 'oracle', 'oil', 'mason', 'inman', 'widely', 'publish', 'writer', 'energy', 'environment', 'mission', 'rehabilitate', 'popular', 'view', 'hubbert', 'entirely', 'successful', 'attempt', 'sympathetic', 'portrayal', 'fascinating', 'read', 'reputation', 'rest', 'prediction', 'oil', 'output', 'peak', 'decade', 'controversial', 'forecast', 'vindicate', 'production', 'hit', 'peak', 'enter', 'decade', 'steady', 'decline', 'insight', 'hubbert', 'idol', 'advocate', 'renewable', 'energy', 'resource', 'conservation', 'surface', 'unlikely', 'radical', 'spend', 'career', 'shell', 'united', 'state', 'geological', 'survey', 'later', 'year', 'advocate', 'nuclear', 'power', 'solution', 'shortage', 'oil', 'gas', 'expect', 'inman', 'show', 'hubbert', 'rebellious', 'bear', 'rural', 'texas', 'twenty', 'thirty', 'sexually', 'liberate', 'new', 'york', 'intellectual', 'imagine', 'american', 'bloomsbury', 'group', 'scientist', 'engineer', 'writer', 'artist', 'group', 'political', 'philosophy', 'technocracy', 'school', 'thought', 'flourish', '1930', 'great', 'depression', 'advocate', 'government', 'control', 'economy', 'free', 'market', 'price', 'mechanism', 'bring', 'disaster', 'technocrat', 'argue', 'allocation', 'resource', 'instead', 'manage', 'scientist', 'engineer', 'like', 'fervent', 'disciple', 'technocracy', 'young', 'man', 'hubbert', 'drift', 'away', 'movement', 'later', 'life', 'principle', 'shape', 'idea', 'end', 'economist', 'take', 'relaxed', 'attitude', 'warning', 'peak', 'oil', 'argue', 'supply', 'tight', 'market', 'force', 'drive', 'change', 'production', 'demand', 'avert', 'disaster', 'hubbert', 'argue', 'nonetheless', 'physical', 'constraint', 'supply', 'damaging', 'consequence', 'respect', 'hubbert', 'die', 'idea', 'find', 'favour', 'oil', 'price', 'soar', 'barrel', 'advance', 'production', 'technique', 'possible', 'produce', 'oil', 'gas', 'shale', 'reserve', 'previously', 'commercially', 'viable', 'send', 'output', 'soar', 'raise', 'prospect', 'country', 'similar', 'resource', 'provide', 'significant', 'additional', 'supply', 'world', 'market', 'history', 'oil', 'show', 'perpetually', 'cyclical', 'business', 'comforting', 'talk', 'age', 'abundance', 'day', 'pass', 'fear', 'peak', 'oil', 'dissipate', '2010', 'critic', 'argue', 'exactly', 'point', 'like', 'stop', 'watch', 'right', 'twice', 'day', 'argument', 'persuasive', 'oil', 'market', 'happen', 'tight', 'supporter', 'respond', 'shale', 'oil', 'high', 'production', 'cost', 'middle', 'reserve', 'exactly', 'kind', 'expensive', 'resource', 'hubbert', 'argue', 'world', 'rely', 'conventional', 'supply', 'decline', 'inman', 'provide', 'excellent', 'overview', 'case', 'defence', 'reader', 'able', 'decide', 'convinced', 'ed', 'crook', 'industry', 'energy', 'editor'] Tri-grammed tokenised text: ['highlight', 'ed', 'crook', 'fascinate', 'biography', 'scientist', 'predict', 'oil', 'production', 'soon', 'start', 'fall', 'oracle', 'oil', 'maverick', 'quest', 'sustainable', 'future', 'mason', 'inman', 'ww', 'norton', 'page', 'scientific', 'idea', 'fall', 'favour', 'quickly', 'claim', 'close', 'peak', 'oil', 'theory', 'output', 'crude', 'near', 'high', 'level', 'reach', 'exactly', 'orthodoxy', 'decade', 'ago', 'widespread', 'support', 'weak', 'form', 'hypothesis', 'suggest', 'world', 'past', 'peak', 'production', 'easy', 'oil', 'commonplace', 'investor', 'oil', 'company', 'boardroom', 'plunge', 'crude', 'price', 'summer', 'trigger', 'boom', 'production', 'mockery', 'assessment', 'today', 'world', 'awash', 'oil', 'conventional', 'wisdom', 'stay', 'supply', 'long', 'come', 'like', 'inopportune', 'moment', 'publish', 'biography', 'marion', 'king', 'hubbert', 'scientist', 'warning', 'peak', 'oil', 'loom', 'day', 'likely', 'cite', 'punchline', 'respected', 'authority', 'oracle', 'oil', 'mason', 'inman', 'widely', 'publish', 'writer', 'energy', 'environment', 'mission', 'rehabilitate', 'popular', 'view', 'hubbert', 'entirely', 'successful', 'attempt', 'sympathetic', 'portrayal', 'fascinating', 'read', 'reputation', 'rest', 'prediction', 'oil', 'output', 'peak', 'decade', 'controversial', 'forecast', 'vindicate', 'production', 'hit', 'peak', 'enter', 'decade', 'steady', 'decline', 'insight', 'hubbert', 'idol', 'advocate', 'renewable_energy', 'resource', 'conservation', 'surface', 'unlikely', 'radical', 'spend', 'career', 'shell', 'united', 'state', 'geological', 'survey', 'later', 'year', 'a"
     ]
    },
    {
     "data": {
      "text/html": [
       "<b>limit_output extension: Maximum message size of 10000 exceeded with 12112 characters</b>"
      ]
     },
     "metadata": {},
     "output_type": "display_data"
    }
   ],
   "source": [
    "# get rid of common terms\n",
    "common_terms = [u'of', u'with', u'without', u'and', u'or', u'the', u'a',\n",
    "                u'not', 'be', u'to', u'this', u'who', u'in']\n",
    "\n",
    "# fing phrases as bigrams\n",
    "bigram = Phrases(docs_tokens,\n",
    "                 min_count=50,\n",
    "                 threshold=5,\n",
    "                 max_vocab_size=50000,\n",
    "                 common_terms=common_terms)\n",
    "# fing phrases as trigrams\n",
    "trigram = Phrases(bigram[docs_tokens],\n",
    "                  min_count=50,\n",
    "                  threshold=5,\n",
    "                  max_vocab_size=50000,\n",
    "                  common_terms=common_terms)\n",
    "# manipulate docs\n",
    "DOCS_PHRASED = [trigram[line] for line in docs_tokens]\n",
    "\n",
    "# check nlp pipeline\n",
    "print('',\n",
    "      'Published text:', docs[0],\n",
    "      'Tokenized text:', docs_tokens[0],\n",
    "      'Tri-grammed tokenised text:', DOCS_PHRASED[0])"
   ]
  },
  {
   "cell_type": "markdown",
   "metadata": {},
   "source": [
    "# Topic Modelling"
   ]
  },
  {
   "cell_type": "markdown",
   "metadata": {},
   "source": [
    "## Model building"
   ]
  },
  {
   "cell_type": "markdown",
   "metadata": {},
   "source": [
    "### Text transformation"
   ]
  },
  {
   "cell_type": "code",
   "execution_count": 14,
   "metadata": {
    "ExecuteTime": {
     "end_time": "2020-07-08T00:05:20.382582Z",
     "start_time": "2020-07-08T00:05:20.057850Z"
    }
   },
   "outputs": [],
   "source": [
    "# create dictionary and text corpus\n",
    "DICT = Dictionary(DOCS_PHRASED)\n",
    "CORPUS = [DICT.doc2bow(doc) for doc in DOCS_PHRASED]"
   ]
  },
  {
   "cell_type": "markdown",
   "metadata": {},
   "source": [
    "### Mallet's implementation of LDA algorithm (using Gibbs sampling)"
   ]
  },
  {
   "cell_type": "code",
   "execution_count": 15,
   "metadata": {
    "ExecuteTime": {
     "end_time": "2020-07-08T00:06:02.489851Z",
     "start_time": "2020-07-08T00:05:20.384082Z"
    }
   },
   "outputs": [
    {
     "data": {
      "text/plain": [
       "[(0,\n",
       "  '0.053*\"service\" + 0.019*\"community\" + 0.011*\"professor\" + 0.010*\"education\" + 0.010*\"health\"'),\n",
       " (1,\n",
       "  '0.017*\"company\" + 0.015*\"business\" + 0.014*\"energy\" + 0.008*\"year\" + 0.008*\"work\"'),\n",
       " (2,\n",
       "  '0.010*\"city\" + 0.008*\"it\\\\\" + 0.007*\"good\" + 0.006*\"include\" + 0.005*\"year\"'),\n",
       " (3,\n",
       "  '0.013*\"government\" + 0.009*\"country\" + 0.007*\"people\" + 0.006*\"year\" + 0.005*\"eu\"'),\n",
       " (4,\n",
       "  '0.016*\"uk\" + 0.015*\"market\" + 0.011*\"year\" + 0.010*\"cent\" + 0.010*\"week\"')]"
      ]
     },
     "execution_count": 15,
     "metadata": {},
     "output_type": "execute_result"
    }
   ],
   "source": [
    "'''\n",
    "Based on Gardner et al's LQ paper, we expect to see\n",
    "29 distinctive topics circa\n",
    "'''\n",
    "N_TOPICS = 5\n",
    "LDA_MALLET = gensim.models.wrappers.LdaMallet(MALLET_PATH,\n",
    "                                              corpus=CORPUS,\n",
    "                                              num_topics=N_TOPICS,\n",
    "                                              id2word=DICT,\n",
    "                                              random_seed=123)\n",
    "LDA_MALLET.print_topics(num_topics=N_TOPICS, num_words=5)"
   ]
  },
  {
   "cell_type": "markdown",
   "metadata": {},
   "source": [
    "## Model evaluation"
   ]
  },
  {
   "cell_type": "markdown",
   "metadata": {},
   "source": [
    "### Get range of coherence values as the number of retained topics change"
   ]
  },
  {
   "cell_type": "code",
   "execution_count": 16,
   "metadata": {
    "ExecuteTime": {
     "end_time": "2020-07-08T00:06:02.496351Z",
     "start_time": "2020-07-08T00:06:02.491885Z"
    }
   },
   "outputs": [],
   "source": [
    "# define function\n",
    "def compute_coherence_values(dictionary, corpus, texts, limit, start, step):\n",
    "    \"\"\"\n",
    "    Compute c_v coherence for various number of topics\n",
    "\n",
    "    Parameters:\n",
    "    -----------\n",
    "    dictionary : Gensim dictionary\n",
    "    corpus     : Gensim corpus\n",
    "    texts      : List of input texts\n",
    "    limit      : Max number of topics\n",
    "\n",
    "    Returns:\n",
    "    --------\n",
    "    model_list       : List of LDA topic models\n",
    "    coherence_values : Coherence values corresponding to the LDA model\n",
    "                       with respective number of topics\n",
    "    \"\"\"\n",
    "    coherence_values = []\n",
    "    model_list = []\n",
    "    mallet_path = MALLET_PATH\n",
    "    for num_topics in range(start, limit, step):\n",
    "        model = gensim.models.wrappers.LdaMallet(mallet_path,\n",
    "                                                 corpus=corpus,\n",
    "                                                 num_topics=num_topics,\n",
    "                                                 id2word=dictionary,\n",
    "                                                 random_seed=123)\n",
    "        model_list.append(model)\n",
    "        coherencemodel = CoherenceModel(model=model,\n",
    "                                        texts=texts,\n",
    "                                        dictionary=dictionary,\n",
    "                                        coherence='c_v')\n",
    "        coherence_values.append(coherencemodel.get_coherence())\n",
    "\n",
    "    return model_list, coherence_values"
   ]
  },
  {
   "cell_type": "code",
   "execution_count": 17,
   "metadata": {
    "ExecuteTime": {
     "end_time": "2020-07-08T00:12:40.913226Z",
     "start_time": "2020-07-08T00:06:02.498534Z"
    }
   },
   "outputs": [],
   "source": [
    "# collect coherence scores as the number of retained topics change\n",
    "LIMIT, START, STEP = 10, 1, 1\n",
    "MODEL_LIST, COHER_VALS = compute_coherence_values(dictionary=DICT,\n",
    "                                                  corpus=CORPUS,\n",
    "                                                  texts=DOCS_PHRASED,\n",
    "                                                  start=START,\n",
    "                                                  limit=LIMIT,\n",
    "                                                  step=STEP)"
   ]
  },
  {
   "cell_type": "code",
   "execution_count": 18,
   "metadata": {
    "ExecuteTime": {
     "end_time": "2020-07-08T00:12:41.174682Z",
     "start_time": "2020-07-08T00:12:40.915505Z"
    }
   },
   "outputs": [
    {
     "data": {
      "image/png": "[encoded data removed]",
      "text/plain": [
       "<Figure size 432x288 with 1 Axes>"
      ]
     },
     "metadata": {
      "needs_background": "light"
     },
     "output_type": "display_data"
    }
   ],
   "source": [
    "# plot collected coherence scores data\n",
    "\n",
    "# data series\n",
    "X = range(START, LIMIT, STEP)\n",
    "Y = COHER_VALS\n",
    "\n",
    "# create figure\n",
    "FIG = plt.figure(figsize=(6, 4))\n",
    "AX = FIG.add_subplot(1, 1, 1)\n",
    "\n",
    "# plot data\n",
    "AX.plot(X, Y, marker='o', color='b', ls='-')\n",
    "\n",
    "# axes\n",
    "AX.set_xlabel(\"Number of topics retained\")\n",
    "AX.set_ylabel(\"Coherence score\")\n",
    "AX.set_xticks(np.arange(0, 10, 1))\n",
    "\n",
    "# reference line\n",
    "AX.axvline(x=4, ymin=0, ymax=1, color='r')\n",
    "\n",
    "# grid\n",
    "AX.grid(True, ls='--')\n",
    "\n",
    "# save plot to file\n",
    "PATH = os.getcwd()\n",
    "FOLDER = 'data'\n",
    "FILE = 'B_0.pdf'\n",
    "plt.savefig(os.path.join(PATH, FOLDER, FILE),\n",
    "            transparent=True,\n",
    "            bbox_inches='tight',\n",
    "            pad_inches=0)\n",
    "\n",
    "plt.show()"
   ]
  },
  {
   "cell_type": "code",
   "execution_count": 19,
   "metadata": {
    "ExecuteTime": {
     "end_time": "2020-07-08T00:13:27.571690Z",
     "start_time": "2020-07-08T00:12:41.177065Z"
    }
   },
   "outputs": [
    {
     "data": {
      "text/plain": [
       "[(0,\n",
       "  '0.045*\"service\" + 0.016*\"community\" + 0.011*\"health\" + 0.009*\"professor\" + 0.009*\"education\" + 0.009*\"university\" + 0.008*\"director\" + 0.007*\"nhs\" + 0.007*\"school\" + 0.007*\"child\"'),\n",
       " (1,\n",
       "  '0.011*\"company\" + 0.010*\"energy\" + 0.010*\"business\" + 0.008*\"work\" + 0.007*\"year\" + 0.006*\"government\" + 0.006*\"power\" + 0.006*\"people\" + 0.005*\"country\" + 0.005*\"cost\"'),\n",
       " (2,\n",
       "  '0.014*\"uk\" + 0.012*\"market\" + 0.012*\"eu\" + 0.010*\"year\" + 0.009*\"cent\" + 0.007*\"week\" + 0.006*\"low\" + 0.006*\"growth\" + 0.006*\"brexit\" + 0.006*\"rise\"'),\n",
       " (3,\n",
       "  '0.008*\"city\" + 0.008*\"it\\\\\" + 0.008*\"food\" + 0.007*\"good\" + 0.007*\"year\" + 0.006*\"include\" + 0.005*\"waste\" + 0.005*\"offer\" + 0.004*\"place\" + 0.004*\"people\"')]"
      ]
     },
     "execution_count": 19,
     "metadata": {},
     "output_type": "execute_result"
    }
   ],
   "source": [
    "# suggested number of topics to retain -- see above\n",
    "N_TOPICS = 4\n",
    "\n",
    "# model estimation\n",
    "LDA_MALLET = gensim.models.wrappers.LdaMallet(MALLET_PATH,\n",
    "                                              corpus=CORPUS,\n",
    "                                              num_topics=N_TOPICS,\n",
    "                                              id2word=DICT,\n",
    "                                              random_seed=123)\n",
    "\n",
    "# print results\n",
    "LDA_MALLET.print_topics(num_topics=N_TOPICS, num_words=10)"
   ]
  },
  {
   "cell_type": "markdown",
   "metadata": {},
   "source": [
    "## Result visualization with pyLDAvis"
   ]
  },
  {
   "cell_type": "markdown",
   "metadata": {},
   "source": [
    "### Copy the training model weights from Mallet to Gensim"
   ]
  },
  {
   "cell_type": "code",
   "execution_count": 20,
   "metadata": {
    "ExecuteTime": {
     "end_time": "2020-07-08T00:13:27.584069Z",
     "start_time": "2020-07-08T00:13:27.573797Z"
    }
   },
   "outputs": [],
   "source": [
    "# translate topic modeling outcome\n",
    "LDA_MALLET_G = gensim.models.wrappers.ldamallet.malletmodel2ldamodel(LDA_MALLET)"
   ]
  },
  {
   "cell_type": "code",
   "execution_count": 21,
   "metadata": {
    "ExecuteTime": {
     "end_time": "2020-07-08T00:13:35.436619Z",
     "start_time": "2020-07-08T00:13:27.585587Z"
    }
   },
   "outputs": [
    {
     "data": {
      "text/html": [
       "\n",
       "<link rel=\"stylesheet\" type=\"text/css\" href=\"https://cdn.rawgit.com/bmabey/pyLDAvis/files/ldavis.v1.0.0.css\">\n",
       "\n",
       "\n",
       "<div id=\"ldavis_el85801402099207066402686764439\"></div>\n",
       "<script type=\"text/javascript\">\n",
       "\n",
       "var ldavis_el85801402099207066402686764439_data = {\"mdsDat\": {\"x\": [-0.3811797719200699, 0.10112334251356743, 0.1495844693047951, 0.1304719601017076], \"y\": [0.0026197640045317436, -0.15762781383368413, -0.17191628813036788, 0.3269243379595202], \"topics\": [1, 2, 3, 4], \"cluster\": [1, 1, 1, 1], \"Freq\": [18.167143203201032, 30.52221956120727, 28.41956088445316, 22.89107635113853]}, \"tinfo\": {\"Term\": [\"service\", \"community\", \"market\", \"eu\", \"uk\", \"energy\", \"health\", \"cent\", \"company\", \"professor\", \"education\", \"university\", \"food\", \"week\", \"director\", \"low\", \"growth\", \"nhs\", \"school\", \"city\", \"power\", \"brexit\", \"john\", \"rise\", \"investor\", \"child\", \"trust\", \"european\", \"it\\\\\", \"debt\", \"jayne\", \"solihull\", \"brewing\", \"boxing\", \"leslie\", \"radio\", \"sahel\", \"bureau\", \"girl\", \"zoom\", \"influential\", \"harold\", \"dementia\", \"aspiration\", \"carlos\", \"a&e\", \"cynical\", \"rev\", \"desmond\", \"myth\", \"exercise\", \"northamptonshire\", \"involved\", \"philip\", \"rebuilding\", \"adopter\", \"brady\", \"cleaner\", \"elaine\", \"deprived\", \"service\", \"health\", \"professor\", \"education\", \"university\", \"nhs\", \"school\", \"john\", \"trust\", \"royal\", \"care\", \"david\", \"officer\", \"charity\", \"england\", \"student\", \"scotland\", \"founder\", \"chair\", \"scottish\", \"police\", \"sir\", \"voluntary_service\", \"hospital\", \"northern_ireland\", \"college\", \"young_people\", \"fire\", \"paul\", \"skill\", \"community\", \"general\", \"director\", \"chief_executive\", \"association\", \"council\", \"child\", \"secretary\", \"department\", \"national\", \"manager\", \"centre\", \"london\", \"british\", \"public\", \"business\", \"uk\", \"international\", \"bulgaria\", \"vocalist\", \"sword\", \"schneiderman\", \"mobil\", \"misconduct\", \"meteorologist\", \"louisiana\", \"forestall\", \"cruz\", \"attorney\", \"amendment\", \"uninformed\", \"segment\", \"romm\", \"ridiculously\", \"renegotiate\", \"psychologist\", \"presumptive\", \"possess\", \"politico\", \"testify\", \"ante\", \"comply\", \"flog\", \"balfour\", \"teabag\", \"rhs\", \"remarkably\", \"arran\", \"energy\", \"power\", \"climate_change\", \"environmental\", \"relate\", \"develop\", \"problem\", \"invest\", \"solar\", \"fuel\", \"campaign\", \"scheme\", \"emission\", \"climate\", \"wind\", \"carbon\", \"electricity\", \"focus\", \"goal\", \"ensure\", \"renewable_energy\", \"gas\", \"reef\", \"commitment\", \"fossil\", \"agreement\", \"farmer\", \"encourage\", \"total\", \"saving\", \"role\", \"renewable\", \"green\", \"poor\", \"cost\", \"company\", \"work\", \"business\", \"sustainable\", \"system\", \"industry\", \"environment\", \"country\", \"government\", \"future\", \"reduce\", \"development\", \"provide\", \"people\", \"project\", \"global\", \"world\", \"plan\", \"year\", \"water\", \"investment\", \"sustainability\", \"pay\", \"support\", \"social\", \"group\", \"profligacy\", \"deeper\", \"francois\", \"horace\", \"ore\", \"kramer\", \"manali\", \"miley\", \"nugent\", \"reisner\", \"rommel\", \"rudy\", \"rumiana\", \"thorogood\", \"tyler\", \"wan\", \"hospitable\", \"worst\", \"adell\", \"marina\", \"bernardo\", \"conciliation\", \"enrique\", \"leora\", \"restless\", \"upsurge\", \"armrest\", \"hamburger\", \"danta\", \"florin\", \"market\", \"eu\", \"cent\", \"low\", \"growth\", \"brexit\", \"rise\", \"investor\", \"european\", \"debt\", \"fall\", \"rate\", \"bank\", \"ftse\", \"july\", \"referendum\", \"stock\", \"eurozone\", \"britain\", \"greece\", \"bond\", \"warn\", \"uncertainty\", \"imf\", \"hit\", \"fiscal\", \"index\", \"record\", \"yield\", \"gain\", \"vote\", \"week\", \"europe\", \"uk\", \"month\", \"economy\", \"expect\", \"economic\", \"financial\", \"cut\", \"price\", \"fund\", \"high\", \"year\", \"share\", \"deal\", \"government\", \"whyalla\", \"addison\", \"sturdy\", \"secondary\", \"saltwater\", \"repurpose\", \"mould\", \"microbrewery\", \"example-\", \"disintegrate\", \"creatively\", \"churn\", \"carlsberg\", \"cardboard\", \"bottled\", \"boa\", \"17p\", \"vermont\", \"reassuring\", \"percy\", \"patty\", \"noire\", \"neonicotinoid\", \"hydrology\", \"cologne\", \"jonny\", \"underserved\", \"unit-\", \"cork\", \"tonal\", \"food\", \"waste\", \"design\", \"hotel\", \"game\", \"brand\", \"sea\", \"space\", \"restaurant\", \"room\", \"contact\", \"site\", \"serve\", \"fish\", \"store\", \"wall\", \"material\", \"nearby\", \"beach\", \"book\", \"good_beach\", \"olympic\", \"love\", \"town\", \"bar\", \"nature\", \"luxury\", \"tourist\", \"architecture\", \"catch\", \"menu\", \"series\", \"city\", \"building\", \"island\", \"age\", \"it\\\\\", \"offer\", \"place\", \"park\", \"house\", \"good\", \"home\", \"include\", \"event\", \"open\", \"year\", \"day\", \"view\", \"life\", \"world\", \"build\", \"people\", \"live\", \"expert\", \"thing\", \"produce\", \"find\", \"local\", \"change\"], \"Freq\": [1930.0, 726.0, 809.0, 775.0, 1067.0, 710.0, 484.0, 596.0, 990.0, 387.0, 369.0, 368.0, 412.0, 515.0, 419.0, 431.0, 427.0, 310.0, 309.0, 482.0, 442.0, 411.0, 282.0, 377.0, 360.0, 395.0, 257.0, 346.0, 545.0, 329.0, 5.6049341206030805, 11.209868241206161, 5.6049341206030805, 5.6049341206030805, 5.6049341206030805, 5.6049341206030805, 5.6049341206030805, 5.6049341206030805, 44.839472964824644, 5.6049341206030805, 11.209868241206161, 5.6049341206030805, 11.209868241206161, 11.209868241206161, 5.6049341206030805, 5.6049341206030805, 5.6049341206030805, 5.6049341206030805, 5.6049341206030805, 5.6049341206030805, 22.419736482412322, 11.209868241206161, 5.6049341206030805, 44.839472964824644, 5.6049341206030805, 5.6049341206030805, 5.6049341206030805, 5.6049341206030805, 5.6049341206030805, 5.6049341206030805, 1930.339311135701, 484.26630802010624, 387.86144114573324, 369.9256519598034, 368.80466513568274, 310.51335028141074, 309.3923634572901, 282.4886796783953, 257.8269695477417, 233.1652594170882, 224.19736482412324, 208.5035492864346, 196.17269422110783, 171.5109840904543, 146.84927395980074, 143.48631348743888, 140.12335301507704, 136.76039254271518, 134.51841889447394, 122.18756382914717, 116.5826297085441, 107.61473511557915, 104.2517746432173, 100.88881417085545, 99.76782734673485, 97.5258536984936, 95.28388005025238, 93.04190640201115, 91.92091957789053, 82.9530249849256, 687.1649231859378, 195.0517073969872, 350.86887594975286, 248.85907495477682, 130.03447159799148, 249.9800617788974, 286.97262697487776, 146.84927395980074, 158.0591422010069, 232.04427259296756, 167.02703679397183, 171.5109840904543, 209.62453611055525, 182.72085233166044, 197.29368104522848, 165.9060499698512, 161.42210267336876, 151.3332212562832, 1.0285111762425385, 1.0285111762425385, 2.057022352485077, 2.057022352485077, 2.057022352485077, 1.0285111762425385, 1.0285111762425385, 1.0285111762425385, 1.0285111762425385, 2.057022352485077, 4.114044704970154, 6.1710670574552315, 2.057022352485077, 4.114044704970154, 1.0285111762425385, 3.0855335287276158, 3.0855335287276158, 3.0855335287276158, 1.0285111762425385, 6.1710670574552315, 3.0855335287276158, 1.0285111762425385, 1.0285111762425385, 8.228089409940308, 1.0285111762425385, 3.0855335287276158, 1.0285111762425385, 1.0285111762425385, 2.057022352485077, 1.0285111762425385, 710.7012227835942, 442.2598057842916, 318.83846463518694, 273.58397288051526, 271.52695052803017, 233.47203700705626, 208.78776877723533, 206.73074642475024, 206.73074642475024, 197.4741458385674, 193.36010113359723, 191.3030787811122, 176.90392231371663, 174.84689996123157, 162.5047658463211, 162.5047658463211, 160.44774349383601, 157.3622099651084, 155.30518761262334, 152.2196540838957, 151.19114290765316, 140.9060311452278, 139.87751996898524, 137.82049761650018, 133.70645291153002, 117.2502740916494, 111.07920703419417, 111.07920703419417, 103.87962880049639, 101.82260644801133, 169.70434408001884, 135.76347526401509, 302.3822858153063, 124.44985232534717, 349.69379992246314, 781.6684939443293, 602.7075492781275, 690.1309992587434, 303.41079699154886, 225.24394759711595, 317.8099534589444, 212.90181348220548, 369.23551227107134, 459.74449578041475, 273.58397288051526, 215.98734701093312, 270.4984393517876, 257.12779406063464, 409.3474481445304, 277.69801758548545, 295.18270758160855, 318.83846463518694, 275.64099523300035, 475.1721634240528, 261.24183876560477, 270.4984393517876, 258.1563052368772, 238.61459288826896, 239.6431040645115, 230.38650347832862, 232.4435258308137, 1.0473336180147794, 4.189334472059118, 4.189334472059118, 1.0473336180147794, 9.426002562133016, 2.094667236029559, 1.0473336180147794, 1.0473336180147794, 1.0473336180147794, 1.0473336180147794, 1.0473336180147794, 1.0473336180147794, 1.0473336180147794, 1.0473336180147794, 4.189334472059118, 1.0473336180147794, 1.0473336180147794, 4.189334472059118, 1.0473336180147794, 2.094667236029559, 1.0473336180147794, 1.0473336180147794, 1.0473336180147794, 1.0473336180147794, 1.0473336180147794, 1.0473336180147794, 1.0473336180147794, 1.0473336180147794, 2.094667236029559, 1.0473336180147794, 809.5888867254246, 775.0268773309369, 596.9801622684244, 431.5014506220892, 427.3121161500301, 411.6021118798084, 377.04010248532063, 360.28276459708417, 346.66742756289204, 329.9100896746556, 325.7207552025965, 324.67342158458166, 314.2000854044339, 267.0700725937688, 264.97540535773925, 238.79206490736976, 229.36606234523674, 211.56139083898546, 206.3247227489116, 189.5673848606751, 179.0940486805273, 173.85738059045343, 172.81004697243864, 170.71537973640906, 169.6680461183943, 160.24204355626128, 155.0053754661874, 151.86337461214305, 151.86337461214305, 142.43737205001003, 220.98739340111848, 499.57813579304985, 234.60273043531063, 905.9435795827843, 361.33009821509893, 373.89810163127635, 245.07606661545842, 375.99276886730587, 343.5254267088477, 306.86875007833044, 329.9100896746556, 363.4247654511285, 353.9987628889955, 636.778839752986, 259.73873726766533, 247.170733851488, 256.596736413621, 1.0854830448472659, 1.0854830448472659, 2.1709660896945318, 8.683864358778127, 8.683864358778127, 1.0854830448472659, 4.3419321793890635, 1.0854830448472659, 1.0854830448472659, 2.1709660896945318, 2.1709660896945318, 4.3419321793890635, 4.3419321793890635, 4.3419321793890635, 2.1709660896945318, 1.0854830448472659, 1.0854830448472659, 4.3419321793890635, 2.1709660896945318, 1.0854830448472659, 1.0854830448472659, 1.0854830448472659, 1.0854830448472659, 1.0854830448472659, 1.0854830448472659, 1.0854830448472659, 2.1"
      ],
      "text/plain": [
       "<IPython.core.display.HTML object>"
      ]
     },
     "execution_count": 21,
     "metadata": {},
     "output_type": "execute_result"
    },
    {
     "data": {
      "text/html": [
       "<b>limit_output extension: Maximum message size of 10000 exceeded with 45105 characters</b>"
      ]
     },
     "metadata": {},
     "output_type": "display_data"
    }
   ],
   "source": [
    "# ignore warnings coming from pyLDAvis\n",
    "import warnings\n",
    "warnings.filterwarnings('ignore')\n",
    "\n",
    "# visualizing the outcome of the retained model -- this takes time\n",
    "pyLDAvis.enable_notebook()\n",
    "DATA_VIS = pyLDAvis.gensim.prepare(LDA_MALLET_G, CORPUS, DICT, sort_topics=False)\n",
    "pyLDAvis.display(DATA_VIS)"
   ]
  },
  {
   "cell_type": "code",
   "execution_count": 22,
   "metadata": {
    "ExecuteTime": {
     "end_time": "2020-07-08T00:14:42.232855Z",
     "start_time": "2020-07-08T00:14:42.224837Z"
    }
   },
   "outputs": [],
   "source": [
    "# save pyLDAvis data to json file\n",
    "pyLDAvis.save_json(DATA_VIS, 'topic_modelling_vis.json')"
   ]
  },
  {
   "cell_type": "markdown",
   "metadata": {},
   "source": [
    "### Get term-to-topic probabilities"
   ]
  },
  {
   "cell_type": "code",
   "execution_count": 23,
   "metadata": {
    "ExecuteTime": {
     "end_time": "2020-07-08T00:17:55.499146Z",
     "start_time": "2020-07-08T00:17:55.494540Z"
    }
   },
   "outputs": [],
   "source": [
    "# get top 5 terms per topic\n",
    "TOP_TERMS_LINE = LDA_MALLET_G.show_topics(num_topics=N_TOPICS, num_words=10)"
   ]
  },
  {
   "cell_type": "code",
   "execution_count": 28,
   "metadata": {
    "ExecuteTime": {
     "end_time": "2020-07-08T00:22:50.786757Z",
     "start_time": "2020-07-08T00:22:50.741673Z"
    }
   },
   "outputs": [],
   "source": [
    "# rearrange data on top 10 terms per topic\n",
    "TOP_TERMS_M = []\n",
    "\n",
    "for i in TOP_TERMS_LINE:\n",
    "    topic_num = i[0]\n",
    "    prob_terms = i[1].split('+')\n",
    "    for term_sort, term in enumerate(prob_terms):\n",
    "        weight = float(term.split('*')[0])\n",
    "        term = term.split('*')[1].strip('\"| ')\n",
    "        TOP_TERMS_M.append([topic_num, term_sort, weight, term])\n",
    "\n",
    "DF = pd.DataFrame(TOP_TERMS_M)\n",
    "\n",
    "# rename columns\n",
    "OLD_NAMES = [0, 1, 2, 3]\n",
    "NEW_NAMES = ['topic_n', 'term_sort', 'weight', 'term']\n",
    "COLS = dict(zip(OLD_NAMES, NEW_NAMES))\n",
    "DF.rename(columns=COLS, inplace=True)\n",
    "DF.set_index(['term_sort', 'topic_n'], inplace=True)\n",
    "DF = DF.unstack()\n",
    "\n",
    "# sidewaystable\n",
    "DF_H = pd.DataFrame()\n",
    "\n",
    "for i in range(4):\n",
    "    terms = DF['term'][i]\n",
    "    weights = DF['weight'][i]\n",
    "    weights = pd.Series(['( %s )' % j for j in weights ])\n",
    "    DF_H = pd.concat([DF_H, terms, weights], axis=1)\n",
    "\n",
    "\n",
    "# write data to file\n",
    "FOLDER = 'data'\n",
    "FILE = '_1.tex'\n",
    "DF_H.T.to_latex(os.path.join(PATH, FOLDER, FILE), index=True)"
   ]
  },
  {
   "cell_type": "markdown",
   "metadata": {},
   "source": [
    "### Get document-to-topic probabilities"
   ]
  },
  {
   "cell_type": "code",
   "execution_count": 31,
   "metadata": {
    "ExecuteTime": {
     "end_time": "2020-07-08T00:24:02.337167Z",
     "start_time": "2020-07-08T00:24:02.160568Z"
    }
   },
   "outputs": [],
   "source": [
    "# get transformed corpus as per the LDA model\n",
    "TRANSF_CORPUS = LDA_MALLET_G.get_document_topics(CORPUS)\n",
    "\n",
    "# rearrange data on document-topic pairs probabilities\n",
    "DOC_TOPIC_M = []\n",
    "\n",
    "for id, doc in enumerate(TRANSF_CORPUS):\n",
    "    for topic in np.arange(0, 3, 1):\n",
    "        topic_n = doc[topic][0]\n",
    "        topic_prob = doc[topic][1]\n",
    "        DOC_TOPIC_M.append([id, topic, topic_prob])\n",
    "\n",
    "DF = pd.DataFrame(DOC_TOPIC_M)\n",
    "\n",
    "# rename columns\n",
    "OLD_NAMES = [0, 1, 2]\n",
    "NEW_NAMES = ['doc_id', 'topic_n', 'prob']\n",
    "COLS = dict(zip(OLD_NAMES, NEW_NAMES))\n",
    "DF.rename(columns=COLS, inplace=True)\n",
    "\n",
    "# dominant topic\n",
    "GR = DF.groupby('doc_id')\n",
    "DF.loc[:, 'max'] = GR['prob'].transform(np.max)\n",
    "DF.loc[:, 'first_topic'] = 0\n",
    "DF.loc[DF['prob'] == DF['max'], 'first_topic'] = 1\n",
    "FIRST_TOPIC = DF.loc[DF['first_topic'] == 1]\n",
    "\n",
    "# arrange data as contingency table\n",
    "DF = DF.pivot_table(index='doc_id', columns='topic_n', values='prob', aggfunc=np.mean)\n",
    "\n",
    "# write data to file\n",
    "FILE = 'transformed_corpus.csv'\n",
    "DF.to_csv(os.path.join(PATH, FOLDER, FILE), index=True)"
   ]
  },
  {
   "cell_type": "markdown",
   "metadata": {},
   "source": [
    "### Multidimensional Scaling on the Transformed Corpus"
   ]
  },
  {
   "cell_type": "code",
   "execution_count": 32,
   "metadata": {
    "ExecuteTime": {
     "end_time": "2020-07-08T00:27:03.586859Z",
     "start_time": "2020-07-08T00:26:57.827475Z"
    }
   },
   "outputs": [],
   "source": [
    "# center features (doc-topic probabilities) data\n",
    "X = DF.values\n",
    "X -= X.mean()\n",
    "\n",
    "# get similarity matrix\n",
    "SIMS = euclidean_distances(X)\n",
    "\n",
    "# mds model\n",
    "SEED = np.random.seed(123)\n",
    "mds = manifold.MDS(n_components=2, max_iter=3000, eps=1e-9, random_state=SEED,\n",
    "                   dissimilarity=\"precomputed\", n_jobs=1)\n",
    "\n",
    "# get MDS positions\n",
    "POS = mds.fit(SIMS).embedding_\n",
    "\n",
    "# get data frame\n",
    "POS = pd.DataFrame(POS, columns=('x1', 'x2'))\n",
    "POS.loc[:, 'doc_id'] = np.arange(0, len(DF))\n",
    "\n",
    "# merge MDS positions and most important topic by document\n",
    "POS = pd.merge(POS, FIRST_TOPIC[['doc_id', 'topic_n']], on='doc_id', how='inner')\n",
    "\n",
    "# write data to file\n",
    "FILE = 'mds_positions.csv'\n",
    "POS.to_csv(os.path.join(PATH, FOLDER, FILE), index=False)"
   ]
  }
 ],
 "metadata": {
  "kernelspec": {
   "display_name": "Python [conda env:nlp] *",
   "language": "python",
   "name": "conda-env-nlp-py"
  },
  "language_info": {
   "codemirror_mode": {
    "name": "ipython",
    "version": 3
   },
   "file_extension": ".py",
   "mimetype": "text/x-python",
   "name": "python",
   "nbconvert_exporter": "python",
   "pygments_lexer": "ipython3",
   "version": "3.7.7"
  },
  "toc": {
   "base_numbering": 1,
   "nav_menu": {},
   "number_sections": true,
   "sideBar": true,
   "skip_h1_title": false,
   "title_cell": "Table of Contents",
   "title_sidebar": "Contents",
   "toc_cell": false,
   "toc_position": {
    "height": "calc(100% - 180px)",
    "left": "10px",
    "top": "150px",
    "width": "284.59375px"
   },
   "toc_section_display": true,
   "toc_window_display": false
  },
  "varInspector": {
   "cols": {
    "lenName": 16,
    "lenType": 16,
    "lenVar": 40
   },
   "kernels_config": {
    "python": {
     "delete_cmd_postfix": "",
     "delete_cmd_prefix": "del ",
     "library": "var_list.py",
     "varRefreshCmd": "print(var_dic_list())"
    },
    "r": {
     "delete_cmd_postfix": ") ",
     "delete_cmd_prefix": "rm(",
     "library": "var_list.r",
     "varRefreshCmd": "cat(var_dic_list()) "
    }
   },
   "types_to_exclude": [
    "module",
    "function",
    "builtin_function_or_method",
    "instance",
    "_Feature"
   ],
   "window_display": false
  }
 },
 "nbformat": 4,
 "nbformat_minor": 4
}
