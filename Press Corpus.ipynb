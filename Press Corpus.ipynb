{
 "cells": [
  {
   "cell_type": "markdown",
   "metadata": {},
   "source": [
    "# Session setup"
   ]
  },
  {
   "cell_type": "markdown",
   "metadata": {},
   "source": [
    "## libraries"
   ]
  },
  {
   "cell_type": "code",
   "execution_count": 1,
   "metadata": {
    "ExecuteTime": {
     "end_time": "2020-07-15T21:37:42.662055Z",
     "start_time": "2020-07-15T21:37:37.579308Z"
    }
   },
   "outputs": [],
   "source": [
    "# basic operations\n",
    "import os\n",
    "import logging\n",
    "import re\n",
    "from pprint import pprint as pp\n",
    "\n",
    "# data analysis/management/manipulation\n",
    "import numpy as np\n",
    "import pandas as pd\n",
    "import sklearn\n",
    "\n",
    "# nlp pipeline\n",
    "import spacy\n",
    "import en_core_web_lg\n",
    "MALLET_PATH = '/Users/omoi/Documents/SMM694-NLP/mallet-2.0.8/bin/mallet'\n",
    "\n",
    "# text analysis\n",
    "import gensim\n",
    "from gensim import corpora\n",
    "from gensim.corpora import Dictionary, MmCorpus\n",
    "from gensim.models import LdaModel, ldamodel\n",
    "from gensim.models import LsiModel, lsimodel\n",
    "from gensim.models import Phrases\n",
    "from gensim.models import CoherenceModel\n",
    "from gensim.corpora import Dictionary\n",
    "from gensim.similarities import MatrixSimilarity\n",
    "\n",
    "# multivariate analysis\n",
    "from sklearn import manifold\n",
    "from sklearn.metrics import euclidean_distances\n",
    "from sklearn.decomposition import PCA\n",
    "\n",
    "# distance metrics\n",
    "from scipy.spatial.distance import cosine\n",
    "\n",
    "# visualization\n",
    "import matplotlib.pyplot as plt\n",
    "import matplotlib.cm as cm\n",
    "import pyLDAvis\n",
    "import pyLDAvis.gensim # directly import the module `gensim'!"
   ]
  },
  {
   "cell_type": "markdown",
   "metadata": {},
   "source": [
    "## package version"
   ]
  },
  {
   "cell_type": "code",
   "execution_count": 2,
   "metadata": {
    "ExecuteTime": {
     "end_time": "2020-07-15T21:37:44.383142Z",
     "start_time": "2020-07-15T21:37:44.379960Z"
    }
   },
   "outputs": [
    {
     "name": "stdout",
     "output_type": "stream",
     "text": [
      "\n",
      "spaCy version: 2.1.3\n",
      "Gensim version: 3.8.0\n",
      "\n"
     ]
    }
   ],
   "source": [
    "print(\"\"\"\n",
    "spaCy version: {}\n",
    "Gensim version: {}\n",
    "\"\"\".format(spacy.__version__, gensim.__version__))"
   ]
  },
  {
   "cell_type": "markdown",
   "metadata": {},
   "source": [
    "## working directory"
   ]
  },
  {
   "cell_type": "code",
   "execution_count": 3,
   "metadata": {
    "ExecuteTime": {
     "end_time": "2020-07-15T21:37:46.334614Z",
     "start_time": "2020-07-15T21:37:46.332092Z"
    }
   },
   "outputs": [],
   "source": [
    "PATH = os.getcwd()\n",
    "FOLDER = 'brexit'"
   ]
  },
  {
   "cell_type": "markdown",
   "metadata": {},
   "source": [
    "# Read data"
   ]
  },
  {
   "cell_type": "code",
   "execution_count": 4,
   "metadata": {
    "ExecuteTime": {
     "end_time": "2020-07-15T21:37:47.869640Z",
     "start_time": "2020-07-15T21:37:47.830078Z"
    }
   },
   "outputs": [],
   "source": [
    "FILE1 = 'pr__sus_attr.csv'\n",
    "FILE2 = 'pr__sus_docs.csv'\n",
    "FILE3 = 'pr__sources.csv'\n",
    "pr_attr = pd.read_csv(os.path.join(PATH, FOLDER, FILE1))\n",
    "pr_docs = pd.read_csv(os.path.join(PATH, FOLDER, FILE2))\n",
    "pr_sources = pd.read_csv(os.path.join(PATH, FOLDER, FILE3))"
   ]
  },
  {
   "cell_type": "code",
   "execution_count": 5,
   "metadata": {
    "ExecuteTime": {
     "end_time": "2020-07-15T21:37:49.409692Z",
     "start_time": "2020-07-15T21:37:49.404412Z"
    }
   },
   "outputs": [
    {
     "data": {
      "text/plain": [
       "Index(['article', 'source', 'variable', 'value'], dtype='object')"
      ]
     },
     "execution_count": 5,
     "metadata": {},
     "output_type": "execute_result"
    }
   ],
   "source": [
    "pr_attr.columns"
   ]
  },
  {
   "cell_type": "code",
   "execution_count": 6,
   "metadata": {
    "ExecuteTime": {
     "end_time": "2020-07-15T21:37:49.932473Z",
     "start_time": "2020-07-15T21:37:49.928244Z"
    }
   },
   "outputs": [
    {
     "data": {
      "text/plain": [
       "Index(['source', 'text', 'article', 'start', 'id', 'sort'], dtype='object')"
      ]
     },
     "execution_count": 6,
     "metadata": {},
     "output_type": "execute_result"
    }
   ],
   "source": [
    "pr_docs.columns"
   ]
  },
  {
   "cell_type": "markdown",
   "metadata": {},
   "source": [
    "## clean the data"
   ]
  },
  {
   "cell_type": "code",
   "execution_count": 7,
   "metadata": {
    "ExecuteTime": {
     "end_time": "2020-07-15T21:37:51.766455Z",
     "start_time": "2020-07-15T21:37:51.752325Z"
    }
   },
   "outputs": [],
   "source": [
    "pr_date = pr_attr[pr_attr.variable == 'date'].drop(['variable','source'], axis=1)\n",
    "\n",
    "# the expected timespan is April 23, 2016 - August 23, 2016\n",
    "pr_timespan = pr_date[(pr_date.value < '2016-08-24 00:00:00') & (pr_date.value >= '2016-04-23 00:00:00')]\n",
    "\n",
    "# get list of chosen article id\n",
    "articles = pr_timespan.article.to_list()\n",
    "\n",
    "# join pr_docs and pr_timespan\n",
    "pr = pd.merge(pr_timespan, pr_docs, on=['article', 'article']).rename(columns={'value':'date'})\n",
    "pr.sort_values('date', inplace=True)"
   ]
  },
  {
   "cell_type": "markdown",
   "metadata": {},
   "source": [
    "# NLP Pipeline"
   ]
  },
  {
   "cell_type": "code",
   "execution_count": 8,
   "metadata": {
    "ExecuteTime": {
     "end_time": "2020-07-15T21:37:52.927215Z",
     "start_time": "2020-07-15T21:37:52.857564Z"
    }
   },
   "outputs": [],
   "source": [
    "# prepare list to pass through spacy\n",
    "docs = [article.strip().lower() for article in pr.text]\n",
    "\n",
    "# hyphen to underscores\n",
    "docs = [re.sub(r'\\b-\\b', '_', text) for text in docs]"
   ]
  },
  {
   "cell_type": "markdown",
   "metadata": {},
   "source": [
    "## simple 'web_lg'"
   ]
  },
  {
   "cell_type": "code",
   "execution_count": 9,
   "metadata": {
    "ExecuteTime": {
     "end_time": "2020-07-15T21:38:01.190686Z",
     "start_time": "2020-07-15T21:37:54.359517Z"
    }
   },
   "outputs": [],
   "source": [
    "# load spaCy model 'web_lg'\n",
    "nlp = en_core_web_lg.load()"
   ]
  },
  {
   "cell_type": "code",
   "execution_count": 10,
   "metadata": {
    "ExecuteTime": {
     "end_time": "2020-07-15T21:38:02.941768Z",
     "start_time": "2020-07-15T21:38:02.938131Z"
    }
   },
   "outputs": [],
   "source": [
    "# expand on spaCy's stopwords\n",
    "# my stopwrods\n",
    "my_stopwords = ['\\x1c',\n",
    "                'ft', 'wsj', 'time', 'sec',\n",
    "                'say', 'says', 'said',\n",
    "                'mr.', 'mister', 'mr', 'miss', 'ms',\n",
    "                'inc']\n",
    "# expand on spacy's stopwords\n",
    "for stopword in my_stopwords:\n",
    "    nlp.vocab[stopword].is_stop = True"
   ]
  },
  {
   "cell_type": "code",
   "execution_count": 11,
   "metadata": {
    "ExecuteTime": {
     "end_time": "2020-07-15T21:38:48.068312Z",
     "start_time": "2020-07-15T21:38:05.029126Z"
    }
   },
   "outputs": [],
   "source": [
    "# tokenize text\n",
    "docs_tokens, tmp_tokens = [], []\n",
    "\n",
    "for doc in docs:\n",
    "    tmp_tokens = [token.lemma_ for token in nlp(doc)\n",
    "                  if not token.is_stop\n",
    "                  and not token.is_space\n",
    "                  and not token.is_punct\n",
    "                  and not token.like_num\n",
    "                  and not token.like_url\n",
    "                  and not token.like_email\n",
    "                  and not token.is_currency\n",
    "                  and not token.is_oov]\n",
    "    docs_tokens.append(tmp_tokens)\n",
    "    tmp_tokens = []"
   ]
  },
  {
   "cell_type": "code",
   "execution_count": 12,
   "metadata": {
    "ExecuteTime": {
     "end_time": "2020-07-15T21:38:50.829737Z",
     "start_time": "2020-07-15T21:38:48.182056Z"
    }
   },
   "outputs": [],
   "source": [
    "phrases = Phrases(docs, min_count=30, progress_per=10000)"
   ]
  },
  {
   "cell_type": "code",
   "execution_count": 53,
   "metadata": {
    "ExecuteTime": {
     "end_time": "2020-07-15T22:51:11.570851Z",
     "start_time": "2020-07-15T22:51:09.930843Z"
    }
   },
   "outputs": [],
   "source": [
    "# get rid of common terms\n",
    "common_terms = [u'of', u'with', u'without', u'and', u'or', u'the', u'a',\n",
    "                u'not', 'be', u'to', u'this', u'who', u'in']\n",
    "\n",
    "# fing phrases as bigrams\n",
    "bigram = Phrases(docs_tokens,\n",
    "                 min_count=50,\n",
    "                 threshold=5,\n",
    "                 max_vocab_size=50000,\n",
    "                 common_terms=common_terms)\n",
    "# fing phrases as trigrams\n",
    "trigram = Phrases(bigram[docs_tokens],\n",
    "                  min_count=50,\n",
    "                  threshold=5,\n",
    "                  max_vocab_size=50000,\n",
    "                  common_terms=common_terms)\n",
    "# manipulate docs\n",
    "DOCS_PHRASED = [trigram[line] for line in docs_tokens]"
   ]
  },
  {
   "cell_type": "markdown",
   "metadata": {},
   "source": [
    "# Topic Modelling"
   ]
  },
  {
   "cell_type": "markdown",
   "metadata": {},
   "source": [
    "## Model building"
   ]
  },
  {
   "cell_type": "markdown",
   "metadata": {},
   "source": [
    "### Text transformation"
   ]
  },
  {
   "cell_type": "code",
   "execution_count": 14,
   "metadata": {
    "ExecuteTime": {
     "end_time": "2020-07-15T21:40:00.737166Z",
     "start_time": "2020-07-15T21:40:00.408288Z"
    }
   },
   "outputs": [],
   "source": [
    "# create dictionary and text corpus\n",
    "DICT = Dictionary(DOCS_PHRASED)\n",
    "CORPUS = [DICT.doc2bow(doc) for doc in DOCS_PHRASED]"
   ]
  },
  {
   "cell_type": "markdown",
   "metadata": {},
   "source": [
    "## Model evaluation"
   ]
  },
  {
   "cell_type": "markdown",
   "metadata": {},
   "source": [
    "### Get range of coherence values as the number of retained topics change"
   ]
  },
  {
   "cell_type": "code",
   "execution_count": 15,
   "metadata": {
    "ExecuteTime": {
     "end_time": "2020-07-15T21:40:10.657402Z",
     "start_time": "2020-07-15T21:40:10.652208Z"
    }
   },
   "outputs": [],
   "source": [
    "# define function\n",
    "def compute_coherence_values(dictionary, corpus, texts, limit, start, step):\n",
    "    \"\"\"\n",
    "    Compute c_v coherence for various number of topics\n",
    "\n",
    "    Parameters:\n",
    "    -----------\n",
    "    dictionary : Gensim dictionary\n",
    "    corpus     : Gensim corpus\n",
    "    texts      : List of input texts\n",
    "    limit      : Max number of topics\n",
    "\n",
    "    Returns:\n",
    "    --------\n",
    "    model_list       : List of LDA topic models\n",
    "    coherence_values : Coherence values corresponding to the LDA model\n",
    "                       with respective number of topics\n",
    "    \"\"\"\n",
    "    coherence_values = []\n",
    "    model_list = []\n",
    "    mallet_path = MALLET_PATH\n",
    "    for num_topics in range(start, limit, step):\n",
    "        model = gensim.models.wrappers.LdaMallet(mallet_path,\n",
    "                                                 corpus=corpus,\n",
    "                                                 num_topics=num_topics,\n",
    "                                                 id2word=dictionary,\n",
    "                                                 random_seed=123)\n",
    "        model_list.append(model)\n",
    "        coherencemodel = CoherenceModel(model=model,\n",
    "                                        texts=texts,\n",
    "                                        dictionary=dictionary,\n",
    "                                        coherence='c_v')\n",
    "        coherence_values.append(coherencemodel.get_coherence())\n",
    "\n",
    "    return model_list, coherence_values"
   ]
  },
  {
   "cell_type": "code",
   "execution_count": 16,
   "metadata": {
    "ExecuteTime": {
     "end_time": "2020-07-15T21:48:38.585985Z",
     "start_time": "2020-07-15T21:40:42.158057Z"
    }
   },
   "outputs": [],
   "source": [
    "# collect coherence scores as the number of retained topics change\n",
    "LIMIT, START, STEP = 16, 5, 1\n",
    "MODEL_LIST, COHER_VALS = compute_coherence_values(dictionary=DICT,\n",
    "                                                  corpus=CORPUS,\n",
    "                                                  texts=DOCS_PHRASED,\n",
    "                                                  start=START,\n",
    "                                                  limit=LIMIT,\n",
    "                                                  step=STEP)"
   ]
  },
  {
   "cell_type": "code",
   "execution_count": 20,
   "metadata": {
    "ExecuteTime": {
     "end_time": "2020-07-15T21:49:39.296096Z",
     "start_time": "2020-07-15T21:49:39.071103Z"
    }
   },
   "outputs": [
    {
     "data": {
      "image/png": "[encoded data removed]",
      "text/plain": [
       "<Figure size 432x288 with 1 Axes>"
      ]
     },
     "metadata": {
      "needs_background": "light"
     },
     "output_type": "display_data"
    }
   ],
   "source": [
    "# plot collected coherence scores data\n",
    "\n",
    "# data series\n",
    "X = range(START, LIMIT, STEP)\n",
    "Y = COHER_VALS\n",
    "\n",
    "# create figure\n",
    "FIG = plt.figure(figsize=(6, 4))\n",
    "AX = FIG.add_subplot(1, 1, 1)\n",
    "\n",
    "# plot data\n",
    "AX.plot(X, Y, marker='o', color='b', ls='-')\n",
    "\n",
    "# axes\n",
    "AX.set_xlabel(\"Number of topics retained\")\n",
    "AX.set_ylabel(\"Coherence score\")\n",
    "AX.set_xticks(np.arange(5, 16, 1))\n",
    "\n",
    "# reference line\n",
    "AX.axvline(x=13, ymin=0, ymax=1, color='r')\n",
    "\n",
    "# grid\n",
    "AX.grid(True, ls='--')\n",
    "\n",
    "# save plot to file\n",
    "PATH = os.getcwd()\n",
    "FOLDER = 'data'\n",
    "FILE = 'whole_press.pdf'\n",
    "plt.savefig(os.path.join(PATH, FOLDER, FILE),\n",
    "            transparent=True,\n",
    "            bbox_inches='tight',\n",
    "            pad_inches=0)\n",
    "\n",
    "plt.show()"
   ]
  },
  {
   "cell_type": "code",
   "execution_count": 21,
   "metadata": {
    "ExecuteTime": {
     "end_time": "2020-07-15T21:54:22.921431Z",
     "start_time": "2020-07-15T21:53:42.344102Z"
    }
   },
   "outputs": [
    {
     "data": {
      "text/plain": [
       "[(0,\n",
       "  '0.025*\"city\" + 0.014*\"university\" + 0.012*\"home\" + 0.011*\"building\" + 0.010*\"water\" + 0.009*\"build\" + 0.009*\"world\" + 0.008*\"year\" + 0.008*\"student\" + 0.008*\"design\"'),\n",
       " (1,\n",
       "  '0.019*\"health\" + 0.017*\"nhs\" + 0.013*\"plan\" + 0.012*\"scheme\" + 0.012*\"pension\" + 0.012*\"government\" + 0.012*\"council\" + 0.012*\"year\" + 0.010*\"care\" + 0.009*\"trust\"'),\n",
       " (2,\n",
       "  '0.010*\"campaign\" + 0.010*\"people\" + 0.008*\"party\" + 0.006*\"vote\" + 0.006*\"it\\\\\" + 0.006*\"change\" + 0.006*\"thing\" + 0.005*\"state\" + 0.005*\"day\" + 0.005*\"claim\"'),\n",
       " (3,\n",
       "  '0.042*\"energy\" + 0.022*\"power\" + 0.019*\"climate_change\" + 0.016*\"green\" + 0.012*\"solar\" + 0.012*\"fuel\" + 0.010*\"emission\" + 0.010*\"climate\" + 0.010*\"uk\" + 0.010*\"wind\"'),\n",
       " (4,\n",
       "  '0.033*\"cent\" + 0.032*\"year\" + 0.024*\"price\" + 0.016*\"growth\" + 0.014*\"rise\" + 0.014*\"increase\" + 0.012*\"low\" + 0.011*\"demand\" + 0.011*\"big\" + 0.010*\"company\"'),\n",
       " (5,\n",
       "  '0.030*\"eu\" + 0.019*\"debt\" + 0.014*\"european\" + 0.013*\"country\" + 0.013*\"uk\" + 0.013*\"government\" + 0.011*\"greece\" + 0.010*\"deal\" + 0.010*\"europe\" + 0.010*\"eurozone\"'),\n",
       " (6,\n",
       "  '0.017*\"work\" + 0.016*\"development\" + 0.015*\"people\" + 0.013*\"community\" + 0.012*\"social\" + 0.011*\"country\" + 0.009*\"international\" + 0.009*\"local\" + 0.009*\"relate\" + 0.009*\"global\"'),\n",
       " (7,\n",
       "  '0.039*\"business\" + 0.017*\"work\" + 0.011*\"team\" + 0.011*\"company\" + 0.010*\"small\" + 0.008*\"good\" + 0.007*\"it\\\\\" + 0.007*\"model\" + 0.007*\"award\" + 0.007*\"general\"'),\n",
       " (8,\n",
       "  '0.030*\"company\" + 0.025*\"investment\" + 0.024*\"fund\" + 0.015*\"investor\" + 0.014*\"group\" + 0.013*\"invest\" + 0.011*\"oil\" + 0.011*\"year\" + 0.010*\"money\" + 0.010*\"return\"'),\n",
       " (9,\n",
       "  '0.018*\"uk\" + 0.018*\"market\" + 0.017*\"brexit\" + 0.016*\"week\" + 0.011*\"ftse\" + 0.011*\"eu\" + 0.011*\"july\" + 0.010*\"referendum\" + 0.009*\"low\" + 0.008*\"high\"'),\n",
       " (10,\n",
       "  '0.012*\"include\" + 0.011*\"beach\" + 0.010*\"hotel\" + 0.009*\"offer\" + 0.008*\"good\" + 0.008*\"restaurant\" + 0.007*\"room\" + 0.007*\"child\" + 0.007*\"contact\" + 0.007*\"read\"'),\n",
       " (11,\n",
       "  '0.024*\"food\" + 0.016*\"waste\" + 0.013*\"product\" + 0.011*\"consumer\" + 0.011*\"sustainability\" + 0.010*\"good\" + 0.010*\"produce\" + 0.009*\"company\" + 0.009*\"industry\" + 0.009*\"brand\"'),\n",
       " (12,\n",
       "  '0.088*\"service\" + 0.020*\"community\" + 0.018*\"professor\" + 0.012*\"john\" + 0.011*\"education\" + 0.011*\"director\" + 0.010*\"royal\" + 0.008*\"david\" + 0.008*\"officer\" + 0.006*\"chief_executive\"')]"
      ]
     },
     "execution_count": 21,
     "metadata": {},
     "output_type": "execute_result"
    }
   ],
   "source": [
    "# suggested number of topics to retain -- see above\n",
    "N_TOPICS = 13\n",
    "\n",
    "# model estimation\n",
    "LDA_MALLET = gensim.models.wrappers.LdaMallet(MALLET_PATH,\n",
    "                                              corpus=CORPUS,\n",
    "                                              num_topics=N_TOPICS,\n",
    "                                              id2word=DICT,\n",
    "                                              random_seed=123)\n",
    "\n",
    "# print results\n",
    "LDA_MALLET.print_topics(num_topics=N_TOPICS, num_words=10)"
   ]
  },
  {
   "cell_type": "markdown",
   "metadata": {},
   "source": [
    "## Result visualization with pyLDAvis"
   ]
  },
  {
   "cell_type": "markdown",
   "metadata": {},
   "source": [
    "### Copy the training model weights from Mallet to Gensim"
   ]
  },
  {
   "cell_type": "code",
   "execution_count": 38,
   "metadata": {
    "ExecuteTime": {
     "end_time": "2020-07-15T22:09:24.682309Z",
     "start_time": "2020-07-15T22:09:24.643021Z"
    }
   },
   "outputs": [],
   "source": [
    "# translate topic modeling outcome\n",
    "LDA_MALLET_G = gensim.models.wrappers.ldamallet.malletmodel2ldamodel(LDA_MALLET)"
   ]
  },
  {
   "cell_type": "code",
   "execution_count": null,
   "metadata": {
    "ExecuteTime": {
     "end_time": "2020-07-15T22:15:27.264786Z",
     "start_time": "2020-07-15T22:15:25.902Z"
    }
   },
   "outputs": [],
   "source": [
    "# ignore warnings coming from pyLDAvis\n",
    "import warnings\n",
    "warnings.filterwarnings('ignore')\n",
    "\n",
    "# visualizing the outcome of the retained model -- this takes time\n",
    "pyLDAvis.enable_notebook()\n",
    "DATA_VIS = pyLDAvis.gensim.prepare(LDA_MALLET_G, CORPUS, DICT, sort_topics=False)\n",
    "pyLDAvis.display(DATA_VIS)"
   ]
  },
  {
   "cell_type": "code",
   "execution_count": 43,
   "metadata": {
    "ExecuteTime": {
     "end_time": "2020-07-15T22:15:29.094340Z",
     "start_time": "2020-07-15T22:15:29.078903Z"
    }
   },
   "outputs": [],
   "source": [
    "# save pyLDAvis data to json file\n",
    "pyLDAvis.save_html(DATA_VIS, 'topic_modelling_vis_whole_press.html')"
   ]
  },
  {
   "cell_type": "markdown",
   "metadata": {},
   "source": [
    "### Get term-to-topic probabilities"
   ]
  },
  {
   "cell_type": "code",
   "execution_count": 48,
   "metadata": {
    "ExecuteTime": {
     "end_time": "2020-07-15T22:21:15.755549Z",
     "start_time": "2020-07-15T22:21:15.749708Z"
    }
   },
   "outputs": [],
   "source": [
    "# get top 5 terms per topic\n",
    "TOP_TERMS_LINE = LDA_MALLET_G.show_topics(num_topics=N_TOPICS, num_words=5)"
   ]
  },
  {
   "cell_type": "code",
   "execution_count": 49,
   "metadata": {
    "ExecuteTime": {
     "end_time": "2020-07-15T22:21:16.680440Z",
     "start_time": "2020-07-15T22:21:16.592113Z"
    }
   },
   "outputs": [],
   "source": [
    "# rearrange data on top 10 terms per topic\n",
    "TOP_TERMS_M = []\n",
    "\n",
    "for i in TOP_TERMS_LINE:\n",
    "    topic_num = i[0]\n",
    "    prob_terms = i[1].split('+')\n",
    "    for term_sort, term in enumerate(prob_terms):\n",
    "        weight = float(term.split('*')[0])\n",
    "        term = term.split('*')[1].strip('\"| ')\n",
    "        TOP_TERMS_M.append([topic_num, term_sort, weight, term])\n",
    "\n",
    "DF = pd.DataFrame(TOP_TERMS_M)\n",
    "\n",
    "# rename columns\n",
    "OLD_NAMES = [0, 1, 2, 3]\n",
    "NEW_NAMES = ['topic_n', 'term_sort', 'weight', 'term']\n",
    "COLS = dict(zip(OLD_NAMES, NEW_NAMES))\n",
    "DF.rename(columns=COLS, inplace=True)\n",
    "DF.set_index(['term_sort', 'topic_n'], inplace=True)\n",
    "DF = DF.unstack()\n",
    "\n",
    "# sidewaystable\n",
    "DF_H = pd.DataFrame()\n",
    "\n",
    "for i in range(13):\n",
    "    terms = DF['term'][i]\n",
    "    weights = DF['weight'][i]\n",
    "    weights = pd.Series(['( %s )' % j for j in weights ])\n",
    "    DF_H = pd.concat([DF_H, terms, weights], axis=1)\n",
    "\n",
    "\n",
    "# write data to file\n",
    "FOLDER = 'data'\n",
    "FILE = 'whole_press.tex'\n",
    "DF_H.T.to_latex(os.path.join(PATH, FOLDER, FILE), index=True)"
   ]
  }
 ],
 "metadata": {
  "kernelspec": {
   "display_name": "Python [conda env:nlp] *",
   "language": "python",
   "name": "conda-env-nlp-py"
  },
  "language_info": {
   "codemirror_mode": {
    "name": "ipython",
    "version": 3
   },
   "file_extension": ".py",
   "mimetype": "text/x-python",
   "name": "python",
   "nbconvert_exporter": "python",
   "pygments_lexer": "ipython3",
   "version": "3.7.7"
  },
  "toc": {
   "base_numbering": 1,
   "nav_menu": {},
   "number_sections": true,
   "sideBar": true,
   "skip_h1_title": false,
   "title_cell": "Table of Contents",
   "title_sidebar": "Contents",
   "toc_cell": false,
   "toc_position": {
    "height": "calc(100% - 180px)",
    "left": "10px",
    "top": "150px",
    "width": "284.59375px"
   },
   "toc_section_display": true,
   "toc_window_display": false
  },
  "varInspector": {
   "cols": {
    "lenName": 16,
    "lenType": 16,
    "lenVar": 40
   },
   "kernels_config": {
    "python": {
     "delete_cmd_postfix": "",
     "delete_cmd_prefix": "del ",
     "library": "var_list.py",
     "varRefreshCmd": "print(var_dic_list())"
    },
    "r": {
     "delete_cmd_postfix": ") ",
     "delete_cmd_prefix": "rm(",
     "library": "var_list.r",
     "varRefreshCmd": "cat(var_dic_list()) "
    }
   },
   "types_to_exclude": [
    "module",
    "function",
    "builtin_function_or_method",
    "instance",
    "_Feature"
   ],
   "window_display": false
  }
 },
 "nbformat": 4,
 "nbformat_minor": 4
}
